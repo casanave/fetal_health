{
 "cells": [
  {
   "cell_type": "markdown",
   "metadata": {},
   "source": [
    "# INTRODUCTION "
   ]
  },
  {
   "cell_type": "markdown",
   "metadata": {},
   "source": [
    "### Problem: Maternal Morbidity on the Rise\n",
    "\n",
    "According to the University of Minnesota, \"Maternal deaths in the first months of the COVID-19 pandemic increased 33%—and even higher in Black and Hispanic women...\" \n",
    "\n",
    "CITATION: https://www.cidrap.umn.edu/news-perspective/2022/06/maternal-deaths-climbed-33-during-covid-19. \n",
    "\n",
    "Duke University recently published a paper estimating that a total ban on abortion would increase Maternal morbidity rates dramatically.\n",
    "\n",
    "\"...I find that in the first year of such a ban, estimated pregnancy-related deaths would increase from 675 to 724 (49 additional deaths, representing a 7% increase), and in subsequent years to 815 (140 additional deaths, for a 21% increase). Non-Hispanic Black people would experience the greatest increase in deaths (a 33% increase in subsequent years). Estimated pregnancy-related deaths would increase for all races and ethnicities examined.\" \n",
    "\n",
    "CITATION\n",
    "https://read.dukeupress.edu/demography/article/58/6/2019/265968/The-Pregnancy-Related-Mortality-Impact-of-a-Total\n",
    "\n",
    "Given the most recent overturning of Roe vs. Wade in the United States, it's crucial that medical research is performed with the goal of decreasing maternal morbidity. It's especially important that health care solutions for birthing parents be accessible and low cost. "
   ]
  },
  {
   "cell_type": "markdown",
   "metadata": {},
   "source": [
    "### Business Case: Maternal Morbidity Research \n",
    "\n",
    "NYU Langone in NYC is doing research on Machine Learning and it's applications in lethal fetal diagnoses. Early detection in these cases provide the best possible medical outcomes for birthing parents and provide the most choices on how the birthing parents would like to handle the diagnosis. "
   ]
  },
  {
   "cell_type": "markdown",
   "metadata": {},
   "source": [
    "### Proposed Solution: An Early Detection AI for Pathological Diagnoses\n",
    "\n",
    "I've been hired by NYU Langone to do design a model. I've decided that this model will focus on having a high recall as it's primary metric. This is because the risk of a potentially lethal pregnancy going undetected would result in 1 and/or two deaths, and the risk of a false positive would result in further medical diagnostics. This model is designed to flag pathological diagnoses as early as possible, for a doctor to confirm the diagnosis. This model is NOT designed to replace the diagnostic capabilities of a doctor, but to save time and resources for birthing parents and hospitals. \n",
    "\n",
    "I'll be working with Cardiotocogram information specifically, and provide NYU Langone with my final result as proof of concept for further research. "
   ]
  },
  {
   "cell_type": "markdown",
   "metadata": {},
   "source": [
    "### Data Understanding\n",
    "\n",
    "I'll be using Cardiotocogram information from CITATION: https://www.kaggle.com/datasets/andrewmvd/fetal-health-classification.\n",
    "\n",
    "The original data is here: \n",
    "https://archive.ics.uci.edu/ml/datasets/cardiotocography\n",
    "\n",
    "#### This data was published in 2000, by Marques de SÃ¡, J.P., Biomedical Engineering Institute, Porto, Portugal. Bernardes, J., Faculty of Medicine, University of Porto, Portugal. Ayres de Campos, D., Faculty of Medicine, University of Porto, Portugal.\n",
    "\n",
    "This is an appropriate data source for this problem/solution because it has a mix of Cardiotocogram information that range from normal to suspected diagnosis to pathological diagnosis. \n",
    "\n",
    "NOTE: Pathological diagnosis in this data does not necessarily mean a lethal prenatal diagnosis, but that is the worst possible case that this data can represent. Therefore I'm going to be focusing on the \"Pathological\" class within this data, especially, and bear in mind that the more generalized and broad use cases for this model will be early detection of all pathological diagnoses."
   ]
  },
  {
   "cell_type": "markdown",
   "metadata": {},
   "source": [
    "CITATION: https://www.kaggle.com/datasets/andrewmvd/fetal-health-classification"
   ]
  },
  {
   "cell_type": "markdown",
   "metadata": {},
   "source": [
    "CITATION : Dua, D. and Graff, C. (2019). UCI Machine Learning Repository [http://archive.ics.uci.edu/ml]. Irvine, CA: University of California, School of Information and Computer Science."
   ]
  },
  {
   "cell_type": "markdown",
   "metadata": {},
   "source": [
    "From Kaggle on the Size of the Data and Classes within:\n",
    "\n",
    "This dataset contains 2126 records of features extracted from Cardiotocogram exams, which were then classified by three expert obstetritians into 3 classes:\n",
    "\n",
    "Normal\n",
    "\n",
    "Suspect\n",
    "\n",
    "Pathological"
   ]
  },
  {
   "cell_type": "markdown",
   "metadata": {},
   "source": [
    "From Kaggle on the more general use cases of this data: \n",
    "\n",
    "Reduction of child mortality is reflected in several of the United Nations' Sustainable Development Goals and is a key indicator of human progress.\n",
    "The UN expects that by 2030, countries end preventable deaths of newborns and children under 5 years of age, with all countries aiming to reduce under‑5 mortality to at least as low as 25 per 1,000 live births.\n",
    "\n",
    "Parallel to notion of child mortality is of course maternal mortality, which accounts for 295 000 deaths during and following pregnancy and childbirth (as of 2017). The vast majority of these deaths (94%) occurred in low-resource settings, and most could have been prevented.\n",
    "\n",
    "In light of what was mentioned above, Cardiotocograms (CTGs) are a simple and cost accessible option to assess fetal health, allowing healthcare professionals to take action in order to prevent child and maternal mortality. The equipment itself works by sending ultrasound pulses and reading its response, thus shedding light on fetal heart rate (FHR), fetal movements, uterine contractions and more.\n",
    "\n",
    "Data\n",
    "This dataset contains 2126 records of features extracted from Cardiotocogram exams, which were then classified by three expert obstetricians into 3 classes:\n",
    "\n",
    "- Normal\n",
    "\n",
    "- Suspect\n",
    "\n",
    "- Pathological"
   ]
  },
  {
   "cell_type": "markdown",
   "metadata": {},
   "source": [
    "Further Reading: https://onlinelibrary.wiley.com/doi/10.1002/1520-6661(200009/10)9:5%3C311::AID-MFM12%3E3.0.CO;2-9\n",
    "\n",
    "This is a paper by the original collectors of the data about their Machine Learning results. "
   ]
  },
  {
   "cell_type": "markdown",
   "metadata": {},
   "source": [
    "### Attribute Information:\n",
    "\n",
    "LB - FHR baseline (beats per minute)\n",
    "\n",
    "AC - # of accelerations per second\n",
    "\n",
    "FM - # of fetal movements per second\n",
    "\n",
    "UC - # of uterine contractions per second\n",
    "\n",
    "DL - # of light decelerations per second\n",
    "\n",
    "DS - # of severe decelerations per second\n",
    "\n",
    "DP - # of prolongued decelerations per second\n",
    "\n",
    "ASTV - percentage of time with abnormal short term variability\n",
    "\n",
    "MSTV - mean value of short term variability\n",
    "\n",
    "ALTV - percentage of time with abnormal long term variability\n",
    "\n",
    "MLTV - mean value of long term variability\n",
    "\n",
    "Width - width of FHR histogram\n",
    "\n",
    "Min - minimum of FHR histogram\n",
    "\n",
    "Max - Maximum of FHR histogram\n",
    "\n",
    "Nmax - # of histogram peaks\n",
    "\n",
    "Nzeros - # of histogram zeros\n",
    "\n",
    "Mode - histogram mode\n",
    "\n",
    "Mean - histogram mean\n",
    "\n",
    "Median - histogram median\n",
    "\n",
    "Variance - histogram variance\n",
    "\n",
    "Tendency - histogram tendency\n",
    "\n",
    "#### I'll be using all features in the initial modeling of the data, and be using SHAP with improved feature selection to make my final model. "
   ]
  },
  {
   "cell_type": "markdown",
   "metadata": {},
   "source": [
    "### IMPORTS "
   ]
  },
  {
   "cell_type": "code",
   "execution_count": 1,
   "metadata": {
    "ExecuteTime": {
     "end_time": "2022-07-03T03:21:07.047068Z",
     "start_time": "2022-07-03T03:21:05.903488Z"
    }
   },
   "outputs": [],
   "source": [
    "# Importing the nessisary libraries\n",
    "\n",
    "import pandas as pd\n",
    "import numpy as np\n",
    "from itertools import cycle\n",
    "import shap\n",
    "import pickle\n",
    "\n",
    "from sklearn import svm\n",
    "from sklearn.svm import SVC\n",
    "from sklearn.svm import LinearSVC\n",
    "from sklearn.linear_model import LogisticRegression\n",
    "from sklearn.ensemble import RandomForestClassifier, VotingClassifier\n",
    "from sklearn.neighbors import KNeighborsClassifier\n",
    "\n",
    "from sklearn.model_selection import train_test_split\n",
    "from sklearn.pipeline import Pipeline\n",
    "from sklearn.impute import SimpleImputer\n",
    "from sklearn.preprocessing import OneHotEncoder\n",
    "from sklearn.preprocessing import StandardScaler\n",
    "from sklearn.compose import ColumnTransformer\n",
    "from sklearn.preprocessing import label_binarize, LabelBinarizer\n",
    "\n",
    "from sklearn.model_selection import GridSearchCV\n",
    "from sklearn import metrics\n",
    "from sklearn.metrics import recall_score, precision_score, precision_recall_curve, accuracy_score\n",
    "from sklearn.model_selection import cross_validate\n",
    "from sklearn.model_selection import cross_val_score\n",
    "from sklearn.metrics import roc_curve, auc\n",
    "from sklearn.multiclass import OneVsRestClassifier\n",
    "from sklearn.metrics import roc_auc_score, plot_confusion_matrix, confusion_matrix\n",
    "\n",
    "from sklearn import set_config\n",
    "import matplotlib.pyplot as plt\n",
    "import seaborn as sns\n",
    "\n",
    "import warnings\n",
    "warnings.filterwarnings(\"ignore\")\n",
    "\n",
    "sns.set_style('white')"
   ]
  },
  {
   "cell_type": "markdown",
   "metadata": {},
   "source": [
    "### FUNCTIONS"
   ]
  },
  {
   "cell_type": "markdown",
   "metadata": {},
   "source": [
    "citation: https://stackoverflow.com/questions/68402691/adding-dropping-column-instance-into-a-pipeline"
   ]
  },
  {
   "cell_type": "code",
   "execution_count": 2,
   "metadata": {
    "ExecuteTime": {
     "end_time": "2022-07-03T03:21:07.054723Z",
     "start_time": "2022-07-03T03:21:07.048202Z"
    }
   },
   "outputs": [],
   "source": [
    "class columnDropperTransformer():\n",
    "    def __init__(self,columns):\n",
    "        self.columns=columns\n",
    "\n",
    "    def transform(self,X,y=None):\n",
    "        return X.drop(self.columns,axis=1)\n",
    "\n",
    "    def fit(self, X, y=None):\n",
    "        return self "
   ]
  },
  {
   "cell_type": "markdown",
   "metadata": {},
   "source": [
    "CITATION: https://stackoverflow.com/questions/46953967/multilabel-indicator-is-not-supported-for-confusion-matrix"
   ]
  },
  {
   "cell_type": "code",
   "execution_count": 3,
   "metadata": {
    "ExecuteTime": {
     "end_time": "2022-07-03T03:21:07.058104Z",
     "start_time": "2022-07-03T03:21:07.056424Z"
    }
   },
   "outputs": [],
   "source": [
    "reports = []"
   ]
  },
  {
   "cell_type": "code",
   "execution_count": 4,
   "metadata": {
    "ExecuteTime": {
     "end_time": "2022-07-03T03:21:07.063452Z",
     "start_time": "2022-07-03T03:21:07.059778Z"
    }
   },
   "outputs": [],
   "source": [
    "def evaluate(model, y_val, y_preds):\n",
    "    \n",
    "    \"\"\"\n",
    "    DOCSTRING: \n",
    "    evaluate expects a model, a list of y_trues and associated list of \n",
    "    y_predicted. it outputs a confusion matrix of RECALL values (noramalize is\n",
    "    set to true) and the associated precision, recall, f1 and support of the \n",
    "    PATHOLOGICAL class (raw_report[2])\"\"\"\n",
    "\n",
    "    lables = ['Normal', 'Suspected', 'Pathological']    \n",
    "\n",
    "    ax = plt.subplot()\n",
    "\n",
    "    cm = confusion_matrix(np.asarray(y_val).argmax(axis=1), np.asarray(y_preds).argmax(axis=1), \n",
    "                          normalize = \"true\")\n",
    "    \n",
    "    sns.heatmap(cm, annot=True, fmt='.2%', ax=ax);  \n",
    "\n",
    "    #annot=True to annotate cells, ftm='g' to disable scientific notation\n",
    "\n",
    "    # labels, title and ticks\n",
    "    ax.set_xlabel('Predicted labels');ax.set_ylabel('True labels'); \n",
    "    ax.set_title('Confusion Matrix'); \n",
    "    ax.xaxis.set_ticklabels(lables); ax.yaxis.set_ticklabels(lables);\\\n",
    "    \n",
    "    raw_report = metrics.classification_report(y_val, y_preds, output_dict = True)\n",
    "    class_3_report = raw_report['2']\n",
    "    \n",
    "    reports.append(class_3_report)\n",
    "    \n",
    "    print('************************************************************')\n",
    "    print(cm)\n",
    "    print('METRICS FOR PATHOLOGICAL CLASS')\n",
    "    print(class_3_report)"
   ]
  },
  {
   "cell_type": "markdown",
   "metadata": {},
   "source": [
    "CITATION: https://scikit-learn.org/stable/auto_examples/model_selection/plot_roc.html"
   ]
  },
  {
   "cell_type": "code",
   "execution_count": 5,
   "metadata": {
    "ExecuteTime": {
     "end_time": "2022-07-03T03:21:07.070901Z",
     "start_time": "2022-07-03T03:21:07.064415Z"
    }
   },
   "outputs": [],
   "source": [
    "def visualize_ROC_AUC(y_preds, y_val, model_name):\n",
    "    \n",
    "    \"\"\"\n",
    "    DOCSTRING: \n",
    "    visualize_ROC_AUC expects a list of predictions, a list of true y values, \n",
    "    and the name of the model. It will output a multiclass ROC AUC plot using\n",
    "    the OneVsRest method, making a line for each class, and two dotted lines, \n",
    "    one for the micro_average (balenced for class imbalence), and macro_average\n",
    "    (not balenced.)\n",
    "    \"\"\"\n",
    "\n",
    "    # Compute ROC curve and ROC area for each class\n",
    "    fpr = dict()\n",
    "    tpr = dict()\n",
    "    roc_auc = dict()\n",
    "    for number in range(n_classes):\n",
    "        fpr[number], tpr[number], _ = roc_curve(y_val[:, number], y_preds[:, number])\n",
    "        roc_auc[number] = auc(fpr[number], tpr[number])\n",
    "\n",
    "    # Compute micro-average ROC curve and ROC area\n",
    "    fpr[\"micro\"], tpr[\"micro\"], _ = roc_curve(y_val.ravel(), y_preds.ravel())\n",
    "    roc_auc[\"micro\"] = auc(fpr[\"micro\"], tpr[\"micro\"])\n",
    "\n",
    "\n",
    "    # First aggregate all false positive rates\n",
    "    all_fpr = np.unique(np.concatenate([fpr[number] for number in range(n_classes)]))\n",
    "\n",
    "    # Then interpolate all ROC curves at this points\n",
    "    mean_tpr = np.zeros_like(all_fpr)\n",
    "    for number in range(n_classes):\n",
    "        mean_tpr += np.interp(all_fpr, fpr[number], tpr[number])\n",
    "\n",
    "    # Finally average it and compute AUC\n",
    "    mean_tpr /= n_classes\n",
    "\n",
    "    fpr[\"macro\"] = all_fpr\n",
    "    tpr[\"macro\"] = mean_tpr\n",
    "    roc_auc[\"macro\"] = auc(fpr[\"macro\"], tpr[\"macro\"])\n",
    "\n",
    "    # Plot all ROC curves\n",
    "    plt.figure()\n",
    "    plt.plot(\n",
    "        fpr[\"micro\"],\n",
    "        tpr[\"micro\"],\n",
    "        label=\"micro-average ROC curve (area = {0:0.2f})\".format(roc_auc[\"micro\"]),\n",
    "        color=\"deeppink\",\n",
    "        linestyle=\":\",\n",
    "        linewidth=4,\n",
    "    )\n",
    "\n",
    "    plt.plot(\n",
    "        fpr[\"macro\"],\n",
    "        tpr[\"macro\"],\n",
    "        label=\"macro-average ROC curve (area = {0:0.2f})\".format(roc_auc[\"macro\"]),\n",
    "        color=\"navy\",\n",
    "        linestyle=\":\",\n",
    "        linewidth=4,\n",
    "    )\n",
    "\n",
    "    colors = cycle([\"aqua\", \"darkorange\", \"cornflowerblue\"])\n",
    "    for i, color in zip(range(n_classes), colors):\n",
    "        plt.plot(\n",
    "            fpr[number],\n",
    "            tpr[number],\n",
    "            color=color,\n",
    "            lw=2,\n",
    "            label=\"ROC curve of class {0} (area = {1:0.2f})\".format(number, roc_auc[number]),\n",
    "        )\n",
    "\n",
    "    plt.plot([0, 1], [0, 1], \"k--\", lw=2)\n",
    "    plt.xlim([0.0, 1.0])\n",
    "    plt.ylim([0.0, 1.05])\n",
    "    plt.xlabel(\"False Positive Rate\")\n",
    "    plt.ylabel(\"True Positive Rate\")\n",
    "    plt.title(f\"{model_name}'s detection of different classes using 1 over all\")\n",
    "    plt.legend(loc=\"lower right\")\n",
    "    return plt.show()"
   ]
  },
  {
   "cell_type": "code",
   "execution_count": 6,
   "metadata": {
    "ExecuteTime": {
     "end_time": "2022-07-03T03:21:07.073474Z",
     "start_time": "2022-07-03T03:21:07.071868Z"
    }
   },
   "outputs": [],
   "source": [
    "def eval_and_vis(model, y_val, y_preds, model_name):\n",
    "    evaluate(model, y_val, y_preds)\n",
    "    visualize_ROC_AUC(y_preds, y_val, model_name)\n",
    "    "
   ]
  },
  {
   "cell_type": "code",
   "execution_count": 7,
   "metadata": {
    "ExecuteTime": {
     "end_time": "2022-07-03T03:21:07.077139Z",
     "start_time": "2022-07-03T03:21:07.074408Z"
    }
   },
   "outputs": [],
   "source": [
    "def show_train_and_test(grid, X_tr, y_tr, X_te, model_name):\n",
    "    \n",
    "    \"\"\"\n",
    "    DOCSTRING: \n",
    "    show_train_and_test expects a grid or model, X_train, y_train, X_test\n",
    "    and the name of the model. It outputs a report with the confusion matrix\n",
    "    and ROC AUC plot and other metrics for both the test and train set\"\"\"\n",
    "\n",
    "    grid.fit(X_tr, y_tr)\n",
    "    y_preds = grid.predict(X_tr)\n",
    "    y_preds = lb.transform(y_preds)\n",
    "    y_train_binarized = lb.transform(y_tr)\n",
    "    print(\"TRAINING SET CONFUSION MATRIX AND ROC AUC MULTICLASS PLOT\")\n",
    "    eval_and_vis(grid, y_train_binarized, y_preds, 'model_name')\n",
    "    \n",
    "    \n",
    "    y_preds = grid.predict(X_te)\n",
    "    y_preds = lb.transform(y_preds)\n",
    "    print(\"TEST SET CONFUSION MATRIX AND ROC AUC MULTICLASS PLOT\")\n",
    "    eval_and_vis(grid, y_val, y_preds, 'model_name')\n",
    "    \n",
    "    \n",
    "    print(\"Best Parameters: \\n{}\\n\".format(grid.best_params_))\n",
    "    print('************************************************************')"
   ]
  },
  {
   "cell_type": "code",
   "execution_count": 8,
   "metadata": {
    "ExecuteTime": {
     "end_time": "2022-07-03T03:21:07.081664Z",
     "start_time": "2022-07-03T03:21:07.079184Z"
    }
   },
   "outputs": [],
   "source": [
    "def visualize_importances(importances):\n",
    "    columns = importances.columns\n",
    "    counter = 0\n",
    "    for index, number in enumerate(importances.columns, start=1):\n",
    "        fig, ax = plt.subplots()\n",
    "        ax = sns.barplot(data = importances, x = importances.index,\n",
    "                         y = importances[number])\n",
    "        ax.set_title(f'{columns[counter]}s as a class predictor')\n",
    "        counter += 1"
   ]
  },
  {
   "cell_type": "code",
   "execution_count": 9,
   "metadata": {
    "ExecuteTime": {
     "end_time": "2022-07-03T03:21:07.090505Z",
     "start_time": "2022-07-03T03:21:07.083275Z"
    }
   },
   "outputs": [],
   "source": [
    "df = pd.read_csv('fetal_health.csv')"
   ]
  },
  {
   "cell_type": "code",
   "execution_count": 10,
   "metadata": {
    "ExecuteTime": {
     "end_time": "2022-07-03T03:21:07.106206Z",
     "start_time": "2022-07-03T03:21:07.091456Z"
    }
   },
   "outputs": [
    {
     "data": {
      "text/html": [
       "<div>\n",
       "<style scoped>\n",
       "    .dataframe tbody tr th:only-of-type {\n",
       "        vertical-align: middle;\n",
       "    }\n",
       "\n",
       "    .dataframe tbody tr th {\n",
       "        vertical-align: top;\n",
       "    }\n",
       "\n",
       "    .dataframe thead th {\n",
       "        text-align: right;\n",
       "    }\n",
       "</style>\n",
       "<table border=\"1\" class=\"dataframe\">\n",
       "  <thead>\n",
       "    <tr style=\"text-align: right;\">\n",
       "      <th></th>\n",
       "      <th>baseline value</th>\n",
       "      <th>accelerations</th>\n",
       "      <th>fetal_movement</th>\n",
       "      <th>uterine_contractions</th>\n",
       "      <th>light_decelerations</th>\n",
       "      <th>severe_decelerations</th>\n",
       "      <th>prolongued_decelerations</th>\n",
       "      <th>abnormal_short_term_variability</th>\n",
       "      <th>mean_value_of_short_term_variability</th>\n",
       "      <th>percentage_of_time_with_abnormal_long_term_variability</th>\n",
       "      <th>...</th>\n",
       "      <th>histogram_min</th>\n",
       "      <th>histogram_max</th>\n",
       "      <th>histogram_number_of_peaks</th>\n",
       "      <th>histogram_number_of_zeroes</th>\n",
       "      <th>histogram_mode</th>\n",
       "      <th>histogram_mean</th>\n",
       "      <th>histogram_median</th>\n",
       "      <th>histogram_variance</th>\n",
       "      <th>histogram_tendency</th>\n",
       "      <th>fetal_health</th>\n",
       "    </tr>\n",
       "  </thead>\n",
       "  <tbody>\n",
       "    <tr>\n",
       "      <th>0</th>\n",
       "      <td>120.0</td>\n",
       "      <td>0.000</td>\n",
       "      <td>0.0</td>\n",
       "      <td>0.000</td>\n",
       "      <td>0.000</td>\n",
       "      <td>0.0</td>\n",
       "      <td>0.0</td>\n",
       "      <td>73.0</td>\n",
       "      <td>0.5</td>\n",
       "      <td>43.0</td>\n",
       "      <td>...</td>\n",
       "      <td>62.0</td>\n",
       "      <td>126.0</td>\n",
       "      <td>2.0</td>\n",
       "      <td>0.0</td>\n",
       "      <td>120.0</td>\n",
       "      <td>137.0</td>\n",
       "      <td>121.0</td>\n",
       "      <td>73.0</td>\n",
       "      <td>1.0</td>\n",
       "      <td>2.0</td>\n",
       "    </tr>\n",
       "    <tr>\n",
       "      <th>1</th>\n",
       "      <td>132.0</td>\n",
       "      <td>0.006</td>\n",
       "      <td>0.0</td>\n",
       "      <td>0.006</td>\n",
       "      <td>0.003</td>\n",
       "      <td>0.0</td>\n",
       "      <td>0.0</td>\n",
       "      <td>17.0</td>\n",
       "      <td>2.1</td>\n",
       "      <td>0.0</td>\n",
       "      <td>...</td>\n",
       "      <td>68.0</td>\n",
       "      <td>198.0</td>\n",
       "      <td>6.0</td>\n",
       "      <td>1.0</td>\n",
       "      <td>141.0</td>\n",
       "      <td>136.0</td>\n",
       "      <td>140.0</td>\n",
       "      <td>12.0</td>\n",
       "      <td>0.0</td>\n",
       "      <td>1.0</td>\n",
       "    </tr>\n",
       "    <tr>\n",
       "      <th>2</th>\n",
       "      <td>133.0</td>\n",
       "      <td>0.003</td>\n",
       "      <td>0.0</td>\n",
       "      <td>0.008</td>\n",
       "      <td>0.003</td>\n",
       "      <td>0.0</td>\n",
       "      <td>0.0</td>\n",
       "      <td>16.0</td>\n",
       "      <td>2.1</td>\n",
       "      <td>0.0</td>\n",
       "      <td>...</td>\n",
       "      <td>68.0</td>\n",
       "      <td>198.0</td>\n",
       "      <td>5.0</td>\n",
       "      <td>1.0</td>\n",
       "      <td>141.0</td>\n",
       "      <td>135.0</td>\n",
       "      <td>138.0</td>\n",
       "      <td>13.0</td>\n",
       "      <td>0.0</td>\n",
       "      <td>1.0</td>\n",
       "    </tr>\n",
       "    <tr>\n",
       "      <th>3</th>\n",
       "      <td>134.0</td>\n",
       "      <td>0.003</td>\n",
       "      <td>0.0</td>\n",
       "      <td>0.008</td>\n",
       "      <td>0.003</td>\n",
       "      <td>0.0</td>\n",
       "      <td>0.0</td>\n",
       "      <td>16.0</td>\n",
       "      <td>2.4</td>\n",
       "      <td>0.0</td>\n",
       "      <td>...</td>\n",
       "      <td>53.0</td>\n",
       "      <td>170.0</td>\n",
       "      <td>11.0</td>\n",
       "      <td>0.0</td>\n",
       "      <td>137.0</td>\n",
       "      <td>134.0</td>\n",
       "      <td>137.0</td>\n",
       "      <td>13.0</td>\n",
       "      <td>1.0</td>\n",
       "      <td>1.0</td>\n",
       "    </tr>\n",
       "    <tr>\n",
       "      <th>4</th>\n",
       "      <td>132.0</td>\n",
       "      <td>0.007</td>\n",
       "      <td>0.0</td>\n",
       "      <td>0.008</td>\n",
       "      <td>0.000</td>\n",
       "      <td>0.0</td>\n",
       "      <td>0.0</td>\n",
       "      <td>16.0</td>\n",
       "      <td>2.4</td>\n",
       "      <td>0.0</td>\n",
       "      <td>...</td>\n",
       "      <td>53.0</td>\n",
       "      <td>170.0</td>\n",
       "      <td>9.0</td>\n",
       "      <td>0.0</td>\n",
       "      <td>137.0</td>\n",
       "      <td>136.0</td>\n",
       "      <td>138.0</td>\n",
       "      <td>11.0</td>\n",
       "      <td>1.0</td>\n",
       "      <td>1.0</td>\n",
       "    </tr>\n",
       "  </tbody>\n",
       "</table>\n",
       "<p>5 rows × 22 columns</p>\n",
       "</div>"
      ],
      "text/plain": [
       "   baseline value  accelerations  fetal_movement  uterine_contractions  \\\n",
       "0           120.0          0.000             0.0                 0.000   \n",
       "1           132.0          0.006             0.0                 0.006   \n",
       "2           133.0          0.003             0.0                 0.008   \n",
       "3           134.0          0.003             0.0                 0.008   \n",
       "4           132.0          0.007             0.0                 0.008   \n",
       "\n",
       "   light_decelerations  severe_decelerations  prolongued_decelerations  \\\n",
       "0                0.000                   0.0                       0.0   \n",
       "1                0.003                   0.0                       0.0   \n",
       "2                0.003                   0.0                       0.0   \n",
       "3                0.003                   0.0                       0.0   \n",
       "4                0.000                   0.0                       0.0   \n",
       "\n",
       "   abnormal_short_term_variability  mean_value_of_short_term_variability  \\\n",
       "0                             73.0                                   0.5   \n",
       "1                             17.0                                   2.1   \n",
       "2                             16.0                                   2.1   \n",
       "3                             16.0                                   2.4   \n",
       "4                             16.0                                   2.4   \n",
       "\n",
       "   percentage_of_time_with_abnormal_long_term_variability  ...  histogram_min  \\\n",
       "0                                               43.0       ...           62.0   \n",
       "1                                                0.0       ...           68.0   \n",
       "2                                                0.0       ...           68.0   \n",
       "3                                                0.0       ...           53.0   \n",
       "4                                                0.0       ...           53.0   \n",
       "\n",
       "   histogram_max  histogram_number_of_peaks  histogram_number_of_zeroes  \\\n",
       "0          126.0                        2.0                         0.0   \n",
       "1          198.0                        6.0                         1.0   \n",
       "2          198.0                        5.0                         1.0   \n",
       "3          170.0                       11.0                         0.0   \n",
       "4          170.0                        9.0                         0.0   \n",
       "\n",
       "   histogram_mode  histogram_mean  histogram_median  histogram_variance  \\\n",
       "0           120.0           137.0             121.0                73.0   \n",
       "1           141.0           136.0             140.0                12.0   \n",
       "2           141.0           135.0             138.0                13.0   \n",
       "3           137.0           134.0             137.0                13.0   \n",
       "4           137.0           136.0             138.0                11.0   \n",
       "\n",
       "   histogram_tendency  fetal_health  \n",
       "0                 1.0           2.0  \n",
       "1                 0.0           1.0  \n",
       "2                 0.0           1.0  \n",
       "3                 1.0           1.0  \n",
       "4                 1.0           1.0  \n",
       "\n",
       "[5 rows x 22 columns]"
      ]
     },
     "execution_count": 10,
     "metadata": {},
     "output_type": "execute_result"
    }
   ],
   "source": [
    "df.head()"
   ]
  },
  {
   "cell_type": "code",
   "execution_count": 11,
   "metadata": {
    "ExecuteTime": {
     "end_time": "2022-07-03T03:21:07.109503Z",
     "start_time": "2022-07-03T03:21:07.107080Z"
    }
   },
   "outputs": [
    {
     "data": {
      "text/plain": [
       "(2126, 22)"
      ]
     },
     "execution_count": 11,
     "metadata": {},
     "output_type": "execute_result"
    }
   ],
   "source": [
    "df.shape"
   ]
  },
  {
   "cell_type": "code",
   "execution_count": 12,
   "metadata": {
    "ExecuteTime": {
     "end_time": "2022-07-03T03:21:07.116616Z",
     "start_time": "2022-07-03T03:21:07.110424Z"
    }
   },
   "outputs": [
    {
     "name": "stdout",
     "output_type": "stream",
     "text": [
      "<class 'pandas.core.frame.DataFrame'>\n",
      "RangeIndex: 2126 entries, 0 to 2125\n",
      "Data columns (total 22 columns):\n",
      " #   Column                                                  Non-Null Count  Dtype  \n",
      "---  ------                                                  --------------  -----  \n",
      " 0   baseline value                                          2126 non-null   float64\n",
      " 1   accelerations                                           2126 non-null   float64\n",
      " 2   fetal_movement                                          2126 non-null   float64\n",
      " 3   uterine_contractions                                    2126 non-null   float64\n",
      " 4   light_decelerations                                     2126 non-null   float64\n",
      " 5   severe_decelerations                                    2126 non-null   float64\n",
      " 6   prolongued_decelerations                                2126 non-null   float64\n",
      " 7   abnormal_short_term_variability                         2126 non-null   float64\n",
      " 8   mean_value_of_short_term_variability                    2126 non-null   float64\n",
      " 9   percentage_of_time_with_abnormal_long_term_variability  2126 non-null   float64\n",
      " 10  mean_value_of_long_term_variability                     2126 non-null   float64\n",
      " 11  histogram_width                                         2126 non-null   float64\n",
      " 12  histogram_min                                           2126 non-null   float64\n",
      " 13  histogram_max                                           2126 non-null   float64\n",
      " 14  histogram_number_of_peaks                               2126 non-null   float64\n",
      " 15  histogram_number_of_zeroes                              2126 non-null   float64\n",
      " 16  histogram_mode                                          2126 non-null   float64\n",
      " 17  histogram_mean                                          2126 non-null   float64\n",
      " 18  histogram_median                                        2126 non-null   float64\n",
      " 19  histogram_variance                                      2126 non-null   float64\n",
      " 20  histogram_tendency                                      2126 non-null   float64\n",
      " 21  fetal_health                                            2126 non-null   float64\n",
      "dtypes: float64(22)\n",
      "memory usage: 365.5 KB\n"
     ]
    }
   ],
   "source": [
    "df.info()"
   ]
  },
  {
   "cell_type": "code",
   "execution_count": 13,
   "metadata": {
    "ExecuteTime": {
     "end_time": "2022-07-03T03:21:07.120769Z",
     "start_time": "2022-07-03T03:21:07.117517Z"
    }
   },
   "outputs": [
    {
     "data": {
      "text/plain": [
       "baseline value                                            0\n",
       "accelerations                                             0\n",
       "fetal_movement                                            0\n",
       "uterine_contractions                                      0\n",
       "light_decelerations                                       0\n",
       "severe_decelerations                                      0\n",
       "prolongued_decelerations                                  0\n",
       "abnormal_short_term_variability                           0\n",
       "mean_value_of_short_term_variability                      0\n",
       "percentage_of_time_with_abnormal_long_term_variability    0\n",
       "mean_value_of_long_term_variability                       0\n",
       "histogram_width                                           0\n",
       "histogram_min                                             0\n",
       "histogram_max                                             0\n",
       "histogram_number_of_peaks                                 0\n",
       "histogram_number_of_zeroes                                0\n",
       "histogram_mode                                            0\n",
       "histogram_mean                                            0\n",
       "histogram_median                                          0\n",
       "histogram_variance                                        0\n",
       "histogram_tendency                                        0\n",
       "fetal_health                                              0\n",
       "dtype: int64"
      ]
     },
     "execution_count": 13,
     "metadata": {},
     "output_type": "execute_result"
    }
   ],
   "source": [
    "df.isna().sum()"
   ]
  },
  {
   "cell_type": "code",
   "execution_count": 14,
   "metadata": {
    "ExecuteTime": {
     "end_time": "2022-07-03T03:21:07.159539Z",
     "start_time": "2022-07-03T03:21:07.121640Z"
    }
   },
   "outputs": [
    {
     "data": {
      "text/html": [
       "<div>\n",
       "<style scoped>\n",
       "    .dataframe tbody tr th:only-of-type {\n",
       "        vertical-align: middle;\n",
       "    }\n",
       "\n",
       "    .dataframe tbody tr th {\n",
       "        vertical-align: top;\n",
       "    }\n",
       "\n",
       "    .dataframe thead th {\n",
       "        text-align: right;\n",
       "    }\n",
       "</style>\n",
       "<table border=\"1\" class=\"dataframe\">\n",
       "  <thead>\n",
       "    <tr style=\"text-align: right;\">\n",
       "      <th></th>\n",
       "      <th>baseline value</th>\n",
       "      <th>accelerations</th>\n",
       "      <th>fetal_movement</th>\n",
       "      <th>uterine_contractions</th>\n",
       "      <th>light_decelerations</th>\n",
       "      <th>severe_decelerations</th>\n",
       "      <th>prolongued_decelerations</th>\n",
       "      <th>abnormal_short_term_variability</th>\n",
       "      <th>mean_value_of_short_term_variability</th>\n",
       "      <th>percentage_of_time_with_abnormal_long_term_variability</th>\n",
       "      <th>...</th>\n",
       "      <th>histogram_min</th>\n",
       "      <th>histogram_max</th>\n",
       "      <th>histogram_number_of_peaks</th>\n",
       "      <th>histogram_number_of_zeroes</th>\n",
       "      <th>histogram_mode</th>\n",
       "      <th>histogram_mean</th>\n",
       "      <th>histogram_median</th>\n",
       "      <th>histogram_variance</th>\n",
       "      <th>histogram_tendency</th>\n",
       "      <th>fetal_health</th>\n",
       "    </tr>\n",
       "  </thead>\n",
       "  <tbody>\n",
       "    <tr>\n",
       "      <th>count</th>\n",
       "      <td>2126.000000</td>\n",
       "      <td>2126.000000</td>\n",
       "      <td>2126.000000</td>\n",
       "      <td>2126.000000</td>\n",
       "      <td>2126.000000</td>\n",
       "      <td>2126.000000</td>\n",
       "      <td>2126.000000</td>\n",
       "      <td>2126.000000</td>\n",
       "      <td>2126.000000</td>\n",
       "      <td>2126.00000</td>\n",
       "      <td>...</td>\n",
       "      <td>2126.000000</td>\n",
       "      <td>2126.000000</td>\n",
       "      <td>2126.000000</td>\n",
       "      <td>2126.000000</td>\n",
       "      <td>2126.000000</td>\n",
       "      <td>2126.000000</td>\n",
       "      <td>2126.000000</td>\n",
       "      <td>2126.000000</td>\n",
       "      <td>2126.000000</td>\n",
       "      <td>2126.000000</td>\n",
       "    </tr>\n",
       "    <tr>\n",
       "      <th>mean</th>\n",
       "      <td>133.303857</td>\n",
       "      <td>0.003178</td>\n",
       "      <td>0.009481</td>\n",
       "      <td>0.004366</td>\n",
       "      <td>0.001889</td>\n",
       "      <td>0.000003</td>\n",
       "      <td>0.000159</td>\n",
       "      <td>46.990122</td>\n",
       "      <td>1.332785</td>\n",
       "      <td>9.84666</td>\n",
       "      <td>...</td>\n",
       "      <td>93.579492</td>\n",
       "      <td>164.025400</td>\n",
       "      <td>4.068203</td>\n",
       "      <td>0.323612</td>\n",
       "      <td>137.452023</td>\n",
       "      <td>134.610536</td>\n",
       "      <td>138.090310</td>\n",
       "      <td>18.808090</td>\n",
       "      <td>0.320320</td>\n",
       "      <td>1.304327</td>\n",
       "    </tr>\n",
       "    <tr>\n",
       "      <th>std</th>\n",
       "      <td>9.840844</td>\n",
       "      <td>0.003866</td>\n",
       "      <td>0.046666</td>\n",
       "      <td>0.002946</td>\n",
       "      <td>0.002960</td>\n",
       "      <td>0.000057</td>\n",
       "      <td>0.000590</td>\n",
       "      <td>17.192814</td>\n",
       "      <td>0.883241</td>\n",
       "      <td>18.39688</td>\n",
       "      <td>...</td>\n",
       "      <td>29.560212</td>\n",
       "      <td>17.944183</td>\n",
       "      <td>2.949386</td>\n",
       "      <td>0.706059</td>\n",
       "      <td>16.381289</td>\n",
       "      <td>15.593596</td>\n",
       "      <td>14.466589</td>\n",
       "      <td>28.977636</td>\n",
       "      <td>0.610829</td>\n",
       "      <td>0.614377</td>\n",
       "    </tr>\n",
       "    <tr>\n",
       "      <th>min</th>\n",
       "      <td>106.000000</td>\n",
       "      <td>0.000000</td>\n",
       "      <td>0.000000</td>\n",
       "      <td>0.000000</td>\n",
       "      <td>0.000000</td>\n",
       "      <td>0.000000</td>\n",
       "      <td>0.000000</td>\n",
       "      <td>12.000000</td>\n",
       "      <td>0.200000</td>\n",
       "      <td>0.00000</td>\n",
       "      <td>...</td>\n",
       "      <td>50.000000</td>\n",
       "      <td>122.000000</td>\n",
       "      <td>0.000000</td>\n",
       "      <td>0.000000</td>\n",
       "      <td>60.000000</td>\n",
       "      <td>73.000000</td>\n",
       "      <td>77.000000</td>\n",
       "      <td>0.000000</td>\n",
       "      <td>-1.000000</td>\n",
       "      <td>1.000000</td>\n",
       "    </tr>\n",
       "    <tr>\n",
       "      <th>25%</th>\n",
       "      <td>126.000000</td>\n",
       "      <td>0.000000</td>\n",
       "      <td>0.000000</td>\n",
       "      <td>0.002000</td>\n",
       "      <td>0.000000</td>\n",
       "      <td>0.000000</td>\n",
       "      <td>0.000000</td>\n",
       "      <td>32.000000</td>\n",
       "      <td>0.700000</td>\n",
       "      <td>0.00000</td>\n",
       "      <td>...</td>\n",
       "      <td>67.000000</td>\n",
       "      <td>152.000000</td>\n",
       "      <td>2.000000</td>\n",
       "      <td>0.000000</td>\n",
       "      <td>129.000000</td>\n",
       "      <td>125.000000</td>\n",
       "      <td>129.000000</td>\n",
       "      <td>2.000000</td>\n",
       "      <td>0.000000</td>\n",
       "      <td>1.000000</td>\n",
       "    </tr>\n",
       "    <tr>\n",
       "      <th>50%</th>\n",
       "      <td>133.000000</td>\n",
       "      <td>0.002000</td>\n",
       "      <td>0.000000</td>\n",
       "      <td>0.004000</td>\n",
       "      <td>0.000000</td>\n",
       "      <td>0.000000</td>\n",
       "      <td>0.000000</td>\n",
       "      <td>49.000000</td>\n",
       "      <td>1.200000</td>\n",
       "      <td>0.00000</td>\n",
       "      <td>...</td>\n",
       "      <td>93.000000</td>\n",
       "      <td>162.000000</td>\n",
       "      <td>3.000000</td>\n",
       "      <td>0.000000</td>\n",
       "      <td>139.000000</td>\n",
       "      <td>136.000000</td>\n",
       "      <td>139.000000</td>\n",
       "      <td>7.000000</td>\n",
       "      <td>0.000000</td>\n",
       "      <td>1.000000</td>\n",
       "    </tr>\n",
       "    <tr>\n",
       "      <th>75%</th>\n",
       "      <td>140.000000</td>\n",
       "      <td>0.006000</td>\n",
       "      <td>0.003000</td>\n",
       "      <td>0.007000</td>\n",
       "      <td>0.003000</td>\n",
       "      <td>0.000000</td>\n",
       "      <td>0.000000</td>\n",
       "      <td>61.000000</td>\n",
       "      <td>1.700000</td>\n",
       "      <td>11.00000</td>\n",
       "      <td>...</td>\n",
       "      <td>120.000000</td>\n",
       "      <td>174.000000</td>\n",
       "      <td>6.000000</td>\n",
       "      <td>0.000000</td>\n",
       "      <td>148.000000</td>\n",
       "      <td>145.000000</td>\n",
       "      <td>148.000000</td>\n",
       "      <td>24.000000</td>\n",
       "      <td>1.000000</td>\n",
       "      <td>1.000000</td>\n",
       "    </tr>\n",
       "    <tr>\n",
       "      <th>max</th>\n",
       "      <td>160.000000</td>\n",
       "      <td>0.019000</td>\n",
       "      <td>0.481000</td>\n",
       "      <td>0.015000</td>\n",
       "      <td>0.015000</td>\n",
       "      <td>0.001000</td>\n",
       "      <td>0.005000</td>\n",
       "      <td>87.000000</td>\n",
       "      <td>7.000000</td>\n",
       "      <td>91.00000</td>\n",
       "      <td>...</td>\n",
       "      <td>159.000000</td>\n",
       "      <td>238.000000</td>\n",
       "      <td>18.000000</td>\n",
       "      <td>10.000000</td>\n",
       "      <td>187.000000</td>\n",
       "      <td>182.000000</td>\n",
       "      <td>186.000000</td>\n",
       "      <td>269.000000</td>\n",
       "      <td>1.000000</td>\n",
       "      <td>3.000000</td>\n",
       "    </tr>\n",
       "  </tbody>\n",
       "</table>\n",
       "<p>8 rows × 22 columns</p>\n",
       "</div>"
      ],
      "text/plain": [
       "       baseline value  accelerations  fetal_movement  uterine_contractions  \\\n",
       "count     2126.000000    2126.000000     2126.000000           2126.000000   \n",
       "mean       133.303857       0.003178        0.009481              0.004366   \n",
       "std          9.840844       0.003866        0.046666              0.002946   \n",
       "min        106.000000       0.000000        0.000000              0.000000   \n",
       "25%        126.000000       0.000000        0.000000              0.002000   \n",
       "50%        133.000000       0.002000        0.000000              0.004000   \n",
       "75%        140.000000       0.006000        0.003000              0.007000   \n",
       "max        160.000000       0.019000        0.481000              0.015000   \n",
       "\n",
       "       light_decelerations  severe_decelerations  prolongued_decelerations  \\\n",
       "count          2126.000000           2126.000000               2126.000000   \n",
       "mean              0.001889              0.000003                  0.000159   \n",
       "std               0.002960              0.000057                  0.000590   \n",
       "min               0.000000              0.000000                  0.000000   \n",
       "25%               0.000000              0.000000                  0.000000   \n",
       "50%               0.000000              0.000000                  0.000000   \n",
       "75%               0.003000              0.000000                  0.000000   \n",
       "max               0.015000              0.001000                  0.005000   \n",
       "\n",
       "       abnormal_short_term_variability  mean_value_of_short_term_variability  \\\n",
       "count                      2126.000000                           2126.000000   \n",
       "mean                         46.990122                              1.332785   \n",
       "std                          17.192814                              0.883241   \n",
       "min                          12.000000                              0.200000   \n",
       "25%                          32.000000                              0.700000   \n",
       "50%                          49.000000                              1.200000   \n",
       "75%                          61.000000                              1.700000   \n",
       "max                          87.000000                              7.000000   \n",
       "\n",
       "       percentage_of_time_with_abnormal_long_term_variability  ...  \\\n",
       "count                                         2126.00000       ...   \n",
       "mean                                             9.84666       ...   \n",
       "std                                             18.39688       ...   \n",
       "min                                              0.00000       ...   \n",
       "25%                                              0.00000       ...   \n",
       "50%                                              0.00000       ...   \n",
       "75%                                             11.00000       ...   \n",
       "max                                             91.00000       ...   \n",
       "\n",
       "       histogram_min  histogram_max  histogram_number_of_peaks  \\\n",
       "count    2126.000000    2126.000000                2126.000000   \n",
       "mean       93.579492     164.025400                   4.068203   \n",
       "std        29.560212      17.944183                   2.949386   \n",
       "min        50.000000     122.000000                   0.000000   \n",
       "25%        67.000000     152.000000                   2.000000   \n",
       "50%        93.000000     162.000000                   3.000000   \n",
       "75%       120.000000     174.000000                   6.000000   \n",
       "max       159.000000     238.000000                  18.000000   \n",
       "\n",
       "       histogram_number_of_zeroes  histogram_mode  histogram_mean  \\\n",
       "count                 2126.000000     2126.000000     2126.000000   \n",
       "mean                     0.323612      137.452023      134.610536   \n",
       "std                      0.706059       16.381289       15.593596   \n",
       "min                      0.000000       60.000000       73.000000   \n",
       "25%                      0.000000      129.000000      125.000000   \n",
       "50%                      0.000000      139.000000      136.000000   \n",
       "75%                      0.000000      148.000000      145.000000   \n",
       "max                     10.000000      187.000000      182.000000   \n",
       "\n",
       "       histogram_median  histogram_variance  histogram_tendency  fetal_health  \n",
       "count       2126.000000         2126.000000         2126.000000   2126.000000  \n",
       "mean         138.090310           18.808090            0.320320      1.304327  \n",
       "std           14.466589           28.977636            0.610829      0.614377  \n",
       "min           77.000000            0.000000           -1.000000      1.000000  \n",
       "25%          129.000000            2.000000            0.000000      1.000000  \n",
       "50%          139.000000            7.000000            0.000000      1.000000  \n",
       "75%          148.000000           24.000000            1.000000      1.000000  \n",
       "max          186.000000          269.000000            1.000000      3.000000  \n",
       "\n",
       "[8 rows x 22 columns]"
      ]
     },
     "execution_count": 14,
     "metadata": {},
     "output_type": "execute_result"
    }
   ],
   "source": [
    "df.describe()"
   ]
  },
  {
   "cell_type": "markdown",
   "metadata": {},
   "source": [
    "#### Observations:\n"
   ]
  },
  {
   "cell_type": "code",
   "execution_count": 15,
   "metadata": {
    "ExecuteTime": {
     "end_time": "2022-07-03T03:21:07.164195Z",
     "start_time": "2022-07-03T03:21:07.161190Z"
    }
   },
   "outputs": [],
   "source": [
    "X = df.drop(['fetal_health'],axis=1)\n",
    "y = df['fetal_health']"
   ]
  },
  {
   "cell_type": "code",
   "execution_count": 16,
   "metadata": {
    "ExecuteTime": {
     "end_time": "2022-07-03T03:21:07.170181Z",
     "start_time": "2022-07-03T03:21:07.165527Z"
    }
   },
   "outputs": [],
   "source": [
    "y_distribution = y.value_counts()"
   ]
  },
  {
   "cell_type": "code",
   "execution_count": 17,
   "metadata": {
    "ExecuteTime": {
     "end_time": "2022-07-03T03:21:07.173485Z",
     "start_time": "2022-07-03T03:21:07.171345Z"
    }
   },
   "outputs": [],
   "source": [
    "labels = [\"Baseline Value\", \"Accelerations\", \"Fetal Movement\", \n",
    "          \"Uterine Contractions\", \"Light Decelerations\", \"Severe Decelerations\",\n",
    "         \"Prolongued Decelerations\", \"Abnormal Short Term Variability\", \n",
    "          \"Mean Value of Short Term Variability\", \n",
    "          \"Percentage of Time with Abnormal Long Term Variability\", \n",
    "         \"Histogram Tendency\", \"Light Decelerations\", \"Accelerations\",\n",
    "         \"Mean Value of Long Term Variability\", \"Abnormal Short Term Variability\",\n",
    "         \"Histogram Variance\", \"Histogram Median\", \"Histogram Mode\", \n",
    "          \"Histogram Mean\", \"Prolongued Decelerations\"]"
   ]
  },
  {
   "cell_type": "code",
   "execution_count": 18,
   "metadata": {
    "ExecuteTime": {
     "end_time": "2022-07-03T03:21:07.266000Z",
     "start_time": "2022-07-03T03:21:07.174745Z"
    },
    "scrolled": true
   },
   "outputs": [
    {
     "data": {
      "image/png": "[encoded data removed]",
      "text/plain": [
       "<Figure size 432x288 with 1 Axes>"
      ]
     },
     "metadata": {},
     "output_type": "display_data"
    }
   ],
   "source": [
    "fig, ax = plt.subplots()\n",
    "distributions = sns.barplot(x = y_distribution, \n",
    "                            y = y_distribution.index, \n",
    "                            data = y_distribution,\n",
    "                           order = y_distribution)\n",
    "distributions.set_title(\"Distributions of the data\")\n",
    "distributions.set_xlabel(\"Classes and Counts\")\n",
    "plt.xticks(ticks = [0, 1, 2], labels = [\"Normal\", \"Suspected\", \"Pathological\"])\n",
    "plt.ylabel(\"Fetal Health Diagnosis\");"
   ]
  },
  {
   "cell_type": "markdown",
   "metadata": {},
   "source": [
    "Observations: there is a heavy class imbalance that must be accounted for in modeling. "
   ]
  },
  {
   "cell_type": "code",
   "execution_count": 19,
   "metadata": {
    "ExecuteTime": {
     "end_time": "2022-07-03T03:21:07.272050Z",
     "start_time": "2022-07-03T03:21:07.267048Z"
    }
   },
   "outputs": [
    {
     "data": {
      "text/plain": [
       "{1.0: 0.22154280338664156, 2.0: 0.861241768579492, 3.0: 0.9172154280338665}"
      ]
     },
     "execution_count": 19,
     "metadata": {},
     "output_type": "execute_result"
    }
   ],
   "source": [
    "y_dict = dict(y.value_counts(normalize = True))\n",
    "y_dict\n",
    "\n",
    "y_weights = {}\n",
    "for key, value in y_dict.items():\n",
    "    y_weights[key] = 1 - value\n",
    "    \n",
    "y_weights"
   ]
  },
  {
   "cell_type": "code",
   "execution_count": 20,
   "metadata": {
    "ExecuteTime": {
     "end_time": "2022-07-03T03:21:07.276216Z",
     "start_time": "2022-07-03T03:21:07.272877Z"
    }
   },
   "outputs": [],
   "source": [
    "lb = LabelBinarizer()\n",
    "\n",
    "y_binarized = lb.fit_transform(y)\n",
    "n_classes = 3"
   ]
  },
  {
   "cell_type": "code",
   "execution_count": 21,
   "metadata": {
    "ExecuteTime": {
     "end_time": "2022-07-03T03:21:07.288864Z",
     "start_time": "2022-07-03T03:21:07.277186Z"
    }
   },
   "outputs": [
    {
     "data": {
      "text/html": [
       "<div>\n",
       "<style scoped>\n",
       "    .dataframe tbody tr th:only-of-type {\n",
       "        vertical-align: middle;\n",
       "    }\n",
       "\n",
       "    .dataframe tbody tr th {\n",
       "        vertical-align: top;\n",
       "    }\n",
       "\n",
       "    .dataframe thead th {\n",
       "        text-align: right;\n",
       "    }\n",
       "</style>\n",
       "<table border=\"1\" class=\"dataframe\">\n",
       "  <thead>\n",
       "    <tr style=\"text-align: right;\">\n",
       "      <th></th>\n",
       "      <th>baseline value</th>\n",
       "      <th>accelerations</th>\n",
       "      <th>fetal_movement</th>\n",
       "      <th>uterine_contractions</th>\n",
       "      <th>light_decelerations</th>\n",
       "      <th>severe_decelerations</th>\n",
       "      <th>prolongued_decelerations</th>\n",
       "      <th>abnormal_short_term_variability</th>\n",
       "      <th>mean_value_of_short_term_variability</th>\n",
       "      <th>percentage_of_time_with_abnormal_long_term_variability</th>\n",
       "      <th>...</th>\n",
       "      <th>histogram_width</th>\n",
       "      <th>histogram_min</th>\n",
       "      <th>histogram_max</th>\n",
       "      <th>histogram_number_of_peaks</th>\n",
       "      <th>histogram_number_of_zeroes</th>\n",
       "      <th>histogram_mode</th>\n",
       "      <th>histogram_mean</th>\n",
       "      <th>histogram_median</th>\n",
       "      <th>histogram_variance</th>\n",
       "      <th>histogram_tendency</th>\n",
       "    </tr>\n",
       "    <tr>\n",
       "      <th>fetal_health</th>\n",
       "      <th></th>\n",
       "      <th></th>\n",
       "      <th></th>\n",
       "      <th></th>\n",
       "      <th></th>\n",
       "      <th></th>\n",
       "      <th></th>\n",
       "      <th></th>\n",
       "      <th></th>\n",
       "      <th></th>\n",
       "      <th></th>\n",
       "      <th></th>\n",
       "      <th></th>\n",
       "      <th></th>\n",
       "      <th></th>\n",
       "      <th></th>\n",
       "      <th></th>\n",
       "      <th></th>\n",
       "      <th></th>\n",
       "      <th></th>\n",
       "      <th></th>\n",
       "    </tr>\n",
       "  </thead>\n",
       "  <tbody>\n",
       "    <tr>\n",
       "      <th>1.0</th>\n",
       "      <td>131.981873</td>\n",
       "      <td>0.003992</td>\n",
       "      <td>0.007963</td>\n",
       "      <td>0.004781</td>\n",
       "      <td>0.001941</td>\n",
       "      <td>6.042296e-07</td>\n",
       "      <td>0.000051</td>\n",
       "      <td>42.465861</td>\n",
       "      <td>1.430634</td>\n",
       "      <td>5.044713</td>\n",
       "      <td>...</td>\n",
       "      <td>73.400000</td>\n",
       "      <td>91.085801</td>\n",
       "      <td>164.485801</td>\n",
       "      <td>4.163142</td>\n",
       "      <td>0.335347</td>\n",
       "      <td>138.258610</td>\n",
       "      <td>135.102115</td>\n",
       "      <td>138.459819</td>\n",
       "      <td>17.479758</td>\n",
       "      <td>0.341994</td>\n",
       "    </tr>\n",
       "    <tr>\n",
       "      <th>2.0</th>\n",
       "      <td>141.684746</td>\n",
       "      <td>0.000275</td>\n",
       "      <td>0.008332</td>\n",
       "      <td>0.002390</td>\n",
       "      <td>0.000536</td>\n",
       "      <td>0.000000e+00</td>\n",
       "      <td>0.000095</td>\n",
       "      <td>61.901695</td>\n",
       "      <td>0.638983</td>\n",
       "      <td>29.030508</td>\n",
       "      <td>...</td>\n",
       "      <td>49.159322</td>\n",
       "      <td>113.294915</td>\n",
       "      <td>162.454237</td>\n",
       "      <td>3.311864</td>\n",
       "      <td>0.244068</td>\n",
       "      <td>146.555932</td>\n",
       "      <td>144.759322</td>\n",
       "      <td>147.071186</td>\n",
       "      <td>7.213559</td>\n",
       "      <td>0.433898</td>\n",
       "    </tr>\n",
       "    <tr>\n",
       "      <th>3.0</th>\n",
       "      <td>131.687500</td>\n",
       "      <td>0.000392</td>\n",
       "      <td>0.025676</td>\n",
       "      <td>0.003784</td>\n",
       "      <td>0.003670</td>\n",
       "      <td>3.409091e-05</td>\n",
       "      <td>0.001273</td>\n",
       "      <td>64.539773</td>\n",
       "      <td>1.575568</td>\n",
       "      <td>22.846591</td>\n",
       "      <td>...</td>\n",
       "      <td>78.346591</td>\n",
       "      <td>83.982955</td>\n",
       "      <td>162.329545</td>\n",
       "      <td>4.443182</td>\n",
       "      <td>0.346591</td>\n",
       "      <td>114.607955</td>\n",
       "      <td>112.977273</td>\n",
       "      <td>119.562500</td>\n",
       "      <td>50.732955</td>\n",
       "      <td>-0.073864</td>\n",
       "    </tr>\n",
       "  </tbody>\n",
       "</table>\n",
       "<p>3 rows × 21 columns</p>\n",
       "</div>"
      ],
      "text/plain": [
       "              baseline value  accelerations  fetal_movement  \\\n",
       "fetal_health                                                  \n",
       "1.0               131.981873       0.003992        0.007963   \n",
       "2.0               141.684746       0.000275        0.008332   \n",
       "3.0               131.687500       0.000392        0.025676   \n",
       "\n",
       "              uterine_contractions  light_decelerations  severe_decelerations  \\\n",
       "fetal_health                                                                    \n",
       "1.0                       0.004781             0.001941          6.042296e-07   \n",
       "2.0                       0.002390             0.000536          0.000000e+00   \n",
       "3.0                       0.003784             0.003670          3.409091e-05   \n",
       "\n",
       "              prolongued_decelerations  abnormal_short_term_variability  \\\n",
       "fetal_health                                                              \n",
       "1.0                           0.000051                        42.465861   \n",
       "2.0                           0.000095                        61.901695   \n",
       "3.0                           0.001273                        64.539773   \n",
       "\n",
       "              mean_value_of_short_term_variability  \\\n",
       "fetal_health                                         \n",
       "1.0                                       1.430634   \n",
       "2.0                                       0.638983   \n",
       "3.0                                       1.575568   \n",
       "\n",
       "              percentage_of_time_with_abnormal_long_term_variability  ...  \\\n",
       "fetal_health                                                          ...   \n",
       "1.0                                                    5.044713       ...   \n",
       "2.0                                                   29.030508       ...   \n",
       "3.0                                                   22.846591       ...   \n",
       "\n",
       "              histogram_width  histogram_min  histogram_max  \\\n",
       "fetal_health                                                  \n",
       "1.0                 73.400000      91.085801     164.485801   \n",
       "2.0                 49.159322     113.294915     162.454237   \n",
       "3.0                 78.346591      83.982955     162.329545   \n",
       "\n",
       "              histogram_number_of_peaks  histogram_number_of_zeroes  \\\n",
       "fetal_health                                                          \n",
       "1.0                            4.163142                    0.335347   \n",
       "2.0                            3.311864                    0.244068   \n",
       "3.0                            4.443182                    0.346591   \n",
       "\n",
       "              histogram_mode  histogram_mean  histogram_median  \\\n",
       "fetal_health                                                     \n",
       "1.0               138.258610      135.102115        138.459819   \n",
       "2.0               146.555932      144.759322        147.071186   \n",
       "3.0               114.607955      112.977273        119.562500   \n",
       "\n",
       "              histogram_variance  histogram_tendency  \n",
       "fetal_health                                          \n",
       "1.0                    17.479758            0.341994  \n",
       "2.0                     7.213559            0.433898  \n",
       "3.0                    50.732955           -0.073864  \n",
       "\n",
       "[3 rows x 21 columns]"
      ]
     },
     "execution_count": 21,
     "metadata": {},
     "output_type": "execute_result"
    }
   ],
   "source": [
    "mean_agg = df.groupby(by = df['fetal_health']).mean()\n",
    "mean_agg"
   ]
  },
  {
   "cell_type": "markdown",
   "metadata": {},
   "source": [
    "### Investigating the Attributes's Relationship with the Target "
   ]
  },
  {
   "cell_type": "markdown",
   "metadata": {},
   "source": [
    "CITATION: https://www.kaggle.com/code/casper6290/fetalhealthclassification-99"
   ]
  },
  {
   "cell_type": "code",
   "execution_count": 22,
   "metadata": {
    "ExecuteTime": {
     "end_time": "2022-07-03T03:21:08.586163Z",
     "start_time": "2022-07-03T03:21:07.289971Z"
    }
   },
   "outputs": [
    {
     "data": {
      "image/png": "[encoded data removed]",
      "text/plain": [
       "<Figure size 432x288 with 1 Axes>"
      ]
     },
     "metadata": {},
     "output_type": "display_data"
    },
    {
     "data": {
      "image/png": "[encoded data removed]",
      "text/plain": [
       "<Figure size 432x288 with 1 Axes>"
      ]
     },
     "metadata": {},
     "output_type": "display_data"
    },
    {
     "data": {
      "image/png": "[encoded data removed]",
      "text/plain": [
       "<Figure size 432x288 with 1 Axes>"
      ]
     },
     "metadata": {},
     "output_type": "display_data"
    },
    {
     "data": {
      "image/png": "[encoded data removed]",
      "text/plain": [
       "<Figure size 432x288 with 1 Axes>"
      ]
     },
     "metadata": {},
     "output_type": "display_data"
    },
    {
     "data": {
      "image/png": "[encoded data removed]",
      "text/plain": [
       "<Figure size 432x288 with 1 Axes>"
      ]
     },
     "metadata": {},
     "output_type": "display_data"
    },
    {
     "data": {
      "image/png": "[encoded data removed]",
      "text/plain": [
       "<Figure size 432x288 with 1 Axes>"
      ]
     },
     "metadata": {},
     "output_type": "display_data"
    },
    {
     "data": {
      "image/png": "[encoded data removed]",
      "text/plain": [
       "<Figure size 432x288 with 1 Axes>"
      ]
     },
     "metadata": {},
     "output_type": "display_data"
    },
    {
     "data": {
      "image/png": "[encoded data removed]",
      "text/plain": [
       "<Figure size 432x288 with 1 Axes>"
      ]
     },
     "metadata": {},
     "output_type": "display_data"
    },
    {
     "data": {
      "image/png": "[encoded data removed]",
      "text/plain": [
       "<Figure size 432x288 with 1 Axes>"
      ]
     },
     "metadata": {},
     "output_type": "display_data"
    },
    {
     "data": {
      "image/png": "[encoded data removed]",
      "text/plain": [
       "<Figure size 432x288 with 1 Axes>"
      ]
     },
     "metadata": {},
     "output_type": "display_data"
    },
    {
     "data": {
      "image/png": "[encoded data removed]",
      "text/plain": [
       "<Figure size 432x288 with 1 Axes>"
      ]
     },
     "metadata": {},
     "output_type": "display_data"
    },
    {
     "data": {
      "image/png": "[encoded data removed]",
      "text/plain": [
       "<Figure size 432x288 with 1 Axes>"
      ]
     },
     "metadata": {},
     "output_type": "display_data"
    },
    {
     "data": {
      "image/png": "[encoded data removed]",
      "text/plain": [
       "<Figure size 432x288 with 1 Axes>"
      ]
     },
     "metadata": {},
     "output_type": "display_data"
    },
    {
     "data": {
      "image/png": "[encoded data removed]",
      "text/plain": [
       "<Figure size 432x288 with 1 Axes>"
      ]
     },
     "metadata": {},
     "output_type": "display_data"
    },
    {
     "data": {
      "image/png": "[encoded data removed]",
      "text/plain": [
       "<Figure size 432x288 with 1 Axes>"
      ]
     },
     "metadata": {},
     "output_type": "display_data"
    },
    {
     "data": {
      "image/png": "[encoded data removed]",
      "text/plain": [
       "<Figure size 432x288 with 1 Axes>"
      ]
     },
     "metadata": {},
     "output_type": "display_data"
    },
    {
     "data": {
      "image/png": "[encoded data removed]",
      "text/plain": [
       "<Figure size 432x288 with 1 Axes>"
      ]
     },
     "metadata": {},
     "output_type": "display_data"
    },
    {
     "data": {
      "image/png": "[encoded data removed]",
      "text/plain": [
       "<Figure size 432x288 with 1 Axes>"
      ]
     },
     "metadata": {},
     "output_type": "display_data"
    },
    {
     "data": {
      "image/png": "[encoded data removed]",
      "text/plain": [
       "<Figure size 432x288 with 1 Axes>"
      ]
     },
     "metadata": {},
     "output_type": "display_data"
    },
    {
     "data": {
      "image/png": "[encoded data removed]",
      "text/plain": [
       "<Figure size 432x288 with 1 Axes>"
      ]
     },
     "metadata": {},
     "output_type": "display_data"
    },
    {
     "data": {
      "image/png": "[encoded data removed]",
      "text/plain": [
       "<Figure size 432x288 with 1 Axes>"
      ]
     },
     "metadata": {},
     "output_type": "display_data"
    }
   ],
   "source": [
    "for index, col in enumerate(mean_agg.columns,start=1):\n",
    "    counter = 0\n",
    "    fig, ax = plt.subplots()\n",
    "    figure = sns.barplot(data = mean_agg,\n",
    "                         x = mean_agg.index,\n",
    "                         y = mean_agg[col])\n",
    "    \n",
    "    figure.set_title(f\"{labels[counter]} Averaged by Class\")\n",
    "    figure.set_xlabel(\"Diagnosis\")\n",
    "    figure.set_ylabel(f\"{labels[counter]}\")\n",
    "    plt.xticks(ticks = [0, 1, 2], labels = [\"Normal\", \"Suspected\", \"Pathological\"])\n",
    "    counter += 1"
   ]
  },
  {
   "cell_type": "markdown",
   "metadata": {},
   "source": [
    "#### Observations and Implications: \n",
    "\n",
    "- ##### Baseline Values\n",
    "is pretty equally distributed throughout all three classes.\n",
    "\n",
    "\n",
    "- ##### Accelerations\n",
    "were pretty equal between suspected and pathological, but ranged much much higher in the normal class. Further investigation upon this attribute is justified, as it may be important for ruling out the pathological diagnosis.\n",
    "\n",
    "\n",
    "- ##### Fetal Movement\n",
    "is roughly equal between normal and suspected classes but much higher with pathological cases, further investigation upon this attribute is justified, as it may be highly correlated with the pathological class. \n",
    "\n",
    "\n",
    "- ##### Uterine Contractions\n",
    "is an interesting attribute as it's highest value is in the normal class, but it's second highest value is in the pathological class, followed by the suspected class. This implies that the model may find this feature confusing for distinguishing normal from pathological classes. \n",
    "\n",
    "- ##### Light Decelerations\n",
    "is another interesting attribute as it's highest value is the pathological class, followed by the normal class at about half as high, followed by the suspected class at about 1/3rd as high as the normal class. This is a feature that could be fantastic at picking out a suspected diagnosis, but is of less interest to my pathological focused business case. \n",
    "\n",
    "- ##### Severe Decelerations\n",
    "looks to be an important attribute for selecting pathological diagnoses, as it's almost exclusively present in the pathological class, and almost not found in any other class. \n",
    "\n",
    "- ##### Prolonged Decelerations\n",
    "looks to be an important indicator for similar reasons, however it is somewhat more present equally between normal and suspected classes, it looks to be about eight times as high in pathological cases. \n",
    "\n",
    "- ##### Abnormal Short Term Variability\n",
    "has implications of being somewhat useful in ruling out a case as normal, as it's about a third less high in normal cases as it is among suspected and pathological cases. \n",
    "\n",
    "- ##### Mean Value of Short Term Variability \n",
    "is an interesting attribute as it's highest in the pathological class, but nearly as high in the normal class, and about half as high in the suspected class. It would be useful in distinguishing the suspected class from the other two classes. \n",
    "\n",
    "- ##### Percentage of Time with Abnormal Short Term Variability\n",
    "is highest in the suspected class and about a 1/5th less high in the pathological class. Compared to the normal class, both the suspected and pathological classes are much higher in this attribute. Therefore this attribute is probably best at ruling out cases as normal for our purposes. \n",
    "\n",
    "- ##### Mean value of Long Term Variability \n",
    "is about halved in the pathological class as it is in the suspected and normal classes, making implying it may be useful in distinguishing pathological cases from the other two classes. \n",
    "\n",
    "- ##### Histogram Width \n",
    "is about equal between the pathological class and the normal class, but about half as high in the suspected class. This implies this attribute would be good at distinguishing suspected cases from the normal and pathological classes. \n",
    "\n",
    "- ##### Histogram Min \n",
    "is highest in suspected cases, and only slightly higher than it is in pathological and normal cases. This implies this feature may not be very useful to our model, but may give slight advantage if our goal was to pick a suspected case out between both pathological and normal cases.\n",
    "\n",
    "- ##### Histogram Max \n",
    "is about equal between all three classes, implying that this feature may not be very significant to any of the classes. \n",
    "\n",
    "- ##### Histogram Number of Peaks\n",
    "is highest in the pathological class, but almost equal with the normal class. However, it's about 1 less on average from the pathological class, implying it may have some significants in ruling out suspected for our purposes. \n",
    "\n",
    "- ##### Histogram Number of Zeros\n",
    "follows a very similar pattern. \n",
    "\n",
    "- ##### Histogram Mode\n",
    "is about 20 less in the pathological class than it is in the other two classes, implying that it may be useful for our purposes of isolating pathological cases. \n",
    "\n",
    "- ##### Histogram Mean and Histogram Median\n",
    "follow a similar pattern but all three classes have a bit less distinction between them in these attributes. \n",
    "\n",
    "- ##### Histogram Variance\n",
    "more than three as high as the normal class, which is about three times as high as the suspected class, implying this attribute will be very useful for isolating pathological cases, and making each class distinct to the model. \n",
    "\n",
    "- ##### Histogram Tendency \n",
    "looks to be a very important attribute to our model, as in the pathological class, this value averages a negative value, as opposed to the two other classes where the values are positive and the absolute values are much higher. This attribute looks to be encoded by the data collectors, and I'd like to know much more about what these values mean to a non-technical audience. In my business case, I'd want to communicate with the data collection team about this attribute. "
   ]
  },
  {
   "cell_type": "code",
   "execution_count": 23,
   "metadata": {
    "ExecuteTime": {
     "end_time": "2022-07-03T03:21:08.597441Z",
     "start_time": "2022-07-03T03:21:08.594564Z"
    }
   },
   "outputs": [],
   "source": [
    "X_train, X_holdout, y_train, y_holdout = train_test_split(X, y, random_state=42, test_size = .1)"
   ]
  },
  {
   "cell_type": "code",
   "execution_count": 24,
   "metadata": {
    "ExecuteTime": {
     "end_time": "2022-07-03T03:21:08.602419Z",
     "start_time": "2022-07-03T03:21:08.599108Z"
    }
   },
   "outputs": [],
   "source": [
    "X_train,  X_val , y_train, y_val = train_test_split(X_train, y_train, test_size=0.33, random_state=42)"
   ]
  },
  {
   "cell_type": "code",
   "execution_count": 25,
   "metadata": {
    "ExecuteTime": {
     "end_time": "2022-07-03T03:21:11.689743Z",
     "start_time": "2022-07-03T03:21:08.603405Z"
    }
   },
   "outputs": [
    {
     "data": {
      "image/png": "[encoded data removed]",
      "text/plain": [
       "<Figure size 432x288 with 1 Axes>"
      ]
     },
     "metadata": {},
     "output_type": "display_data"
    },
    {
     "data": {
      "image/png": "[encoded data removed]",
      "text/plain": [
       "<Figure size 432x288 with 1 Axes>"
      ]
     },
     "metadata": {},
     "output_type": "display_data"
    },
    {
     "data": {
      "image/png": "[encoded data removed]",
      "text/plain": [
       "<Figure size 432x288 with 1 Axes>"
      ]
     },
     "metadata": {},
     "output_type": "display_data"
    },
    {
     "data": {
      "image/png": "[encoded data removed]",
      "text/plain": [
       "<Figure size 432x288 with 1 Axes>"
      ]
     },
     "metadata": {},
     "output_type": "display_data"
    },
    {
     "data": {
      "image/png": "[encoded data removed]",
      "text/plain": [
       "<Figure size 432x288 with 1 Axes>"
      ]
     },
     "metadata": {},
     "output_type": "display_data"
    },
    {
     "data": {
      "image/png": "[encoded data removed]",
      "text/plain": [
       "<Figure size 432x288 with 1 Axes>"
      ]
     },
     "metadata": {},
     "output_type": "display_data"
    },
    {
     "data": {
      "image/png": "[encoded data removed]",
      "text/plain": [
       "<Figure size 432x288 with 1 Axes>"
      ]
     },
     "metadata": {},
     "output_type": "display_data"
    },
    {
     "data": {
      "image/png": "[encoded data removed]",
      "text/plain": [
       "<Figure size 432x288 with 1 Axes>"
      ]
     },
     "metadata": {},
     "output_type": "display_data"
    },
    {
     "data": {
      "image/png": "[encoded data removed]",
      "text/plain": [
       "<Figure size 432x288 with 1 Axes>"
      ]
     },
     "metadata": {},
     "output_type": "display_data"
    },
    {
     "data": {
      "image/png": "[encoded data removed]",
      "text/plain": [
       "<Figure size 432x288 with 1 Axes>"
      ]
     },
     "metadata": {},
     "output_type": "display_data"
    },
    {
     "data": {
      "image/png": "[encoded data removed]",
      "text/plain": [
       "<Figure size 432x288 with 1 Axes>"
      ]
     },
     "metadata": {},
     "output_type": "display_data"
    },
    {
     "data": {
      "image/png": "[encoded data removed]",
      "text/plain": [
       "<Figure size 432x288 with 1 Axes>"
      ]
     },
     "metadata": {},
     "output_type": "display_data"
    },
    {
     "data": {
      "image/png": "[encoded data removed]",
      "text/plain": [
       "<Figure size 432x288 with 1 Axes>"
      ]
     },
     "metadata": {},
     "output_type": "display_data"
    },
    {
     "data": {
      "image/png": "[encoded data removed]",
      "text/plain": [
       "<Figure size 432x288 with 1 Axes>"
      ]
     },
     "metadata": {},
     "output_type": "display_data"
    },
    {
     "data": {
      "image/png": "[encoded data removed]",
      "text/plain": [
       "<Figure size 432x288 with 1 Axes>"
      ]
     },
     "metadata": {},
     "output_type": "display_data"
    },
    {
     "data": {
      "image/png": "[encoded data removed]",
      "text/plain": [
       "<Figure size 432x288 with 1 Axes>"
      ]
     },
     "metadata": {},
     "output_type": "display_data"
    },
    {
     "data": {
      "image/png": "[encoded data removed]",
      "text/plain": [
       "<Figure size 432x288 with 1 Axes>"
      ]
     },
     "metadata": {},
     "output_type": "display_data"
    },
    {
     "data": {
      "image/png": "[encoded data removed]",
      "text/plain": [
       "<Figure size 432x288 with 1 Axes>"
      ]
     },
     "metadata": {},
     "output_type": "display_data"
    },
    {
     "data": {
      "image/png": "[encoded data removed]",
      "text/plain": [
       "<Figure size 432x288 with 1 Axes>"
      ]
     },
     "metadata": {},
     "output_type": "display_data"
    },
    {
     "data": {
      "image/png": "[encoded data removed]",
      "text/plain": [
       "<Figure size 432x288 with 1 Axes>"
      ]
     },
     "metadata": {},
     "output_type": "display_data"
    },
    {
     "data": {
      "image/png": "[encoded data removed]",
      "text/plain": [
       "<Figure size 432x288 with 1 Axes>"
      ]
     },
     "metadata": {},
     "output_type": "display_data"
    }
   ],
   "source": [
    "for col in X_train:\n",
    "    counter = 0\n",
    "    fig, ax = plt.subplots()\n",
    "    distributions = sns.histplot(data = X_train, x = col)\n",
    "    distributions.set_title(f'{labels[counter]} Distributions in the Data')\n",
    "    distributions.set_xlabel(f'{labels[counter]}')\n",
    "    counter += 1;"
   ]
  },
  {
   "cell_type": "markdown",
   "metadata": {},
   "source": [
    "#### Correlation to the target class:"
   ]
  },
  {
   "cell_type": "code",
   "execution_count": 26,
   "metadata": {
    "ExecuteTime": {
     "end_time": "2022-07-03T03:21:11.693420Z",
     "start_time": "2022-07-03T03:21:11.690583Z"
    }
   },
   "outputs": [
    {
     "data": {
      "text/plain": [
       "array([[0, 1, 0],\n",
       "       [1, 0, 0],\n",
       "       [0, 1, 0],\n",
       "       ...,\n",
       "       [1, 0, 0],\n",
       "       [0, 1, 0],\n",
       "       [1, 0, 0]])"
      ]
     },
     "execution_count": 26,
     "metadata": {},
     "output_type": "execute_result"
    }
   ],
   "source": [
    "y_train = lb.transform(y_train)\n",
    "y_train"
   ]
  },
  {
   "cell_type": "code",
   "execution_count": 27,
   "metadata": {
    "ExecuteTime": {
     "end_time": "2022-07-03T03:21:11.710998Z",
     "start_time": "2022-07-03T03:21:11.694286Z"
    }
   },
   "outputs": [
    {
     "data": {
      "text/html": [
       "<div>\n",
       "<style scoped>\n",
       "    .dataframe tbody tr th:only-of-type {\n",
       "        vertical-align: middle;\n",
       "    }\n",
       "\n",
       "    .dataframe tbody tr th {\n",
       "        vertical-align: top;\n",
       "    }\n",
       "\n",
       "    .dataframe thead th {\n",
       "        text-align: right;\n",
       "    }\n",
       "</style>\n",
       "<table border=\"1\" class=\"dataframe\">\n",
       "  <thead>\n",
       "    <tr style=\"text-align: right;\">\n",
       "      <th></th>\n",
       "      <th>baseline value</th>\n",
       "      <th>accelerations</th>\n",
       "      <th>fetal_movement</th>\n",
       "      <th>uterine_contractions</th>\n",
       "      <th>light_decelerations</th>\n",
       "      <th>severe_decelerations</th>\n",
       "      <th>prolongued_decelerations</th>\n",
       "      <th>abnormal_short_term_variability</th>\n",
       "      <th>mean_value_of_short_term_variability</th>\n",
       "      <th>percentage_of_time_with_abnormal_long_term_variability</th>\n",
       "      <th>...</th>\n",
       "      <th>histogram_min</th>\n",
       "      <th>histogram_max</th>\n",
       "      <th>histogram_number_of_peaks</th>\n",
       "      <th>histogram_number_of_zeroes</th>\n",
       "      <th>histogram_mode</th>\n",
       "      <th>histogram_mean</th>\n",
       "      <th>histogram_median</th>\n",
       "      <th>histogram_variance</th>\n",
       "      <th>histogram_tendency</th>\n",
       "      <th>Pathological</th>\n",
       "    </tr>\n",
       "  </thead>\n",
       "  <tbody>\n",
       "    <tr>\n",
       "      <th>125</th>\n",
       "      <td>159.0</td>\n",
       "      <td>0.000</td>\n",
       "      <td>0.0</td>\n",
       "      <td>0.003</td>\n",
       "      <td>0.0</td>\n",
       "      <td>0.0</td>\n",
       "      <td>0.000</td>\n",
       "      <td>65.0</td>\n",
       "      <td>0.4</td>\n",
       "      <td>16.0</td>\n",
       "      <td>...</td>\n",
       "      <td>81.0</td>\n",
       "      <td>172.0</td>\n",
       "      <td>0.0</td>\n",
       "      <td>0.0</td>\n",
       "      <td>163.0</td>\n",
       "      <td>163.0</td>\n",
       "      <td>165.0</td>\n",
       "      <td>2.0</td>\n",
       "      <td>1.0</td>\n",
       "      <td>0</td>\n",
       "    </tr>\n",
       "    <tr>\n",
       "      <th>922</th>\n",
       "      <td>122.0</td>\n",
       "      <td>0.002</td>\n",
       "      <td>0.0</td>\n",
       "      <td>0.002</td>\n",
       "      <td>0.0</td>\n",
       "      <td>0.0</td>\n",
       "      <td>0.001</td>\n",
       "      <td>31.0</td>\n",
       "      <td>1.2</td>\n",
       "      <td>1.0</td>\n",
       "      <td>...</td>\n",
       "      <td>87.0</td>\n",
       "      <td>147.0</td>\n",
       "      <td>2.0</td>\n",
       "      <td>1.0</td>\n",
       "      <td>120.0</td>\n",
       "      <td>119.0</td>\n",
       "      <td>123.0</td>\n",
       "      <td>9.0</td>\n",
       "      <td>0.0</td>\n",
       "      <td>0</td>\n",
       "    </tr>\n",
       "    <tr>\n",
       "      <th>1390</th>\n",
       "      <td>142.0</td>\n",
       "      <td>0.000</td>\n",
       "      <td>0.0</td>\n",
       "      <td>0.007</td>\n",
       "      <td>0.0</td>\n",
       "      <td>0.0</td>\n",
       "      <td>0.000</td>\n",
       "      <td>60.0</td>\n",
       "      <td>0.4</td>\n",
       "      <td>8.0</td>\n",
       "      <td>...</td>\n",
       "      <td>136.0</td>\n",
       "      <td>156.0</td>\n",
       "      <td>0.0</td>\n",
       "      <td>0.0</td>\n",
       "      <td>147.0</td>\n",
       "      <td>146.0</td>\n",
       "      <td>148.0</td>\n",
       "      <td>1.0</td>\n",
       "      <td>0.0</td>\n",
       "      <td>0</td>\n",
       "    </tr>\n",
       "    <tr>\n",
       "      <th>1446</th>\n",
       "      <td>147.0</td>\n",
       "      <td>0.003</td>\n",
       "      <td>0.0</td>\n",
       "      <td>0.004</td>\n",
       "      <td>0.0</td>\n",
       "      <td>0.0</td>\n",
       "      <td>0.000</td>\n",
       "      <td>46.0</td>\n",
       "      <td>0.7</td>\n",
       "      <td>46.0</td>\n",
       "      <td>...</td>\n",
       "      <td>144.0</td>\n",
       "      <td>173.0</td>\n",
       "      <td>2.0</td>\n",
       "      <td>0.0</td>\n",
       "      <td>157.0</td>\n",
       "      <td>157.0</td>\n",
       "      <td>159.0</td>\n",
       "      <td>1.0</td>\n",
       "      <td>0.0</td>\n",
       "      <td>0</td>\n",
       "    </tr>\n",
       "    <tr>\n",
       "      <th>1032</th>\n",
       "      <td>136.0</td>\n",
       "      <td>0.013</td>\n",
       "      <td>0.0</td>\n",
       "      <td>0.005</td>\n",
       "      <td>0.0</td>\n",
       "      <td>0.0</td>\n",
       "      <td>0.000</td>\n",
       "      <td>22.0</td>\n",
       "      <td>2.3</td>\n",
       "      <td>0.0</td>\n",
       "      <td>...</td>\n",
       "      <td>114.0</td>\n",
       "      <td>178.0</td>\n",
       "      <td>3.0</td>\n",
       "      <td>1.0</td>\n",
       "      <td>145.0</td>\n",
       "      <td>144.0</td>\n",
       "      <td>145.0</td>\n",
       "      <td>6.0</td>\n",
       "      <td>0.0</td>\n",
       "      <td>0</td>\n",
       "    </tr>\n",
       "  </tbody>\n",
       "</table>\n",
       "<p>5 rows × 22 columns</p>\n",
       "</div>"
      ],
      "text/plain": [
       "      baseline value  accelerations  fetal_movement  uterine_contractions  \\\n",
       "125            159.0          0.000             0.0                 0.003   \n",
       "922            122.0          0.002             0.0                 0.002   \n",
       "1390           142.0          0.000             0.0                 0.007   \n",
       "1446           147.0          0.003             0.0                 0.004   \n",
       "1032           136.0          0.013             0.0                 0.005   \n",
       "\n",
       "      light_decelerations  severe_decelerations  prolongued_decelerations  \\\n",
       "125                   0.0                   0.0                     0.000   \n",
       "922                   0.0                   0.0                     0.001   \n",
       "1390                  0.0                   0.0                     0.000   \n",
       "1446                  0.0                   0.0                     0.000   \n",
       "1032                  0.0                   0.0                     0.000   \n",
       "\n",
       "      abnormal_short_term_variability  mean_value_of_short_term_variability  \\\n",
       "125                              65.0                                   0.4   \n",
       "922                              31.0                                   1.2   \n",
       "1390                             60.0                                   0.4   \n",
       "1446                             46.0                                   0.7   \n",
       "1032                             22.0                                   2.3   \n",
       "\n",
       "      percentage_of_time_with_abnormal_long_term_variability  ...  \\\n",
       "125                                                16.0       ...   \n",
       "922                                                 1.0       ...   \n",
       "1390                                                8.0       ...   \n",
       "1446                                               46.0       ...   \n",
       "1032                                                0.0       ...   \n",
       "\n",
       "      histogram_min  histogram_max  histogram_number_of_peaks  \\\n",
       "125            81.0          172.0                        0.0   \n",
       "922            87.0          147.0                        2.0   \n",
       "1390          136.0          156.0                        0.0   \n",
       "1446          144.0          173.0                        2.0   \n",
       "1032          114.0          178.0                        3.0   \n",
       "\n",
       "      histogram_number_of_zeroes  histogram_mode  histogram_mean  \\\n",
       "125                          0.0           163.0           163.0   \n",
       "922                          1.0           120.0           119.0   \n",
       "1390                         0.0           147.0           146.0   \n",
       "1446                         0.0           157.0           157.0   \n",
       "1032                         1.0           145.0           144.0   \n",
       "\n",
       "      histogram_median  histogram_variance  histogram_tendency  Pathological  \n",
       "125              165.0                 2.0                 1.0             0  \n",
       "922              123.0                 9.0                 0.0             0  \n",
       "1390             148.0                 1.0                 0.0             0  \n",
       "1446             159.0                 1.0                 0.0             0  \n",
       "1032             145.0                 6.0                 0.0             0  \n",
       "\n",
       "[5 rows x 22 columns]"
      ]
     },
     "execution_count": 27,
     "metadata": {},
     "output_type": "execute_result"
    }
   ],
   "source": [
    "y_train_target_pathological = [x[2] for x in y_train]\n",
    "\n",
    "correlation_df = X_train.copy()\n",
    "correlation_df[\"Pathological\"] = y_train_target_pathological\n",
    "\n",
    "correlation_df.head()"
   ]
  },
  {
   "cell_type": "code",
   "execution_count": 34,
   "metadata": {
    "ExecuteTime": {
     "end_time": "2022-07-03T03:22:10.048833Z",
     "start_time": "2022-07-03T03:22:09.862185Z"
    }
   },
   "outputs": [
    {
     "data": {
      "image/png": "[encoded data removed]",
      "text/plain": [
       "<Figure size 576x576 with 2 Axes>"
      ]
     },
     "metadata": {},
     "output_type": "display_data"
    }
   ],
   "source": [
    "target_correlation = abs(correlation_df.corr())[['Pathological']].sort_values(by = \"Pathological\")\n",
    "target_correlation = target_correlation[1:-1]\n",
    "\n",
    "plt.figure(figsize = (8, 8))\n",
    "target_correlation_plot = sns.heatmap(data = target_correlation)\n",
    "target_correlation_plot.invert_yaxis()\n",
    "plt.yticks(ticks = range(20), labels = labels);"
   ]
  },
  {
   "cell_type": "code",
   "execution_count": null,
   "metadata": {
    "ExecuteTime": {
     "end_time": "2022-07-03T03:08:34.133269Z",
     "start_time": "2022-07-03T03:08:33.954665Z"
    }
   },
   "outputs": [],
   "source": [
    "fig, ax = plt.subplots()\n",
    "\n",
    "target_correlation_bar_plot = sns.barplot(data = target_correlation, \n",
    "                                          x = target_correlation.values.flatten(),\n",
    "                                          y = target_correlation.index, \n",
    "                                         color = \"purple\")\n",
    "\n",
    "target_correlation_bar_plot.set_xlabel(\"Correlation\")\n",
    "target_correlation_bar_plot.set_yticklabels(labels = labels)\n",
    "target_correlation_bar_plot;"
   ]
  },
  {
   "cell_type": "markdown",
   "metadata": {},
   "source": [
    "## Data Prep: \n",
    "\n",
    "Due to this data being remarkably clean, (there are no missing or NAN values, I won't be doing much to the data in prep for modeling. In certain models I'll be scaling the data, but that will happen on a case by case basis as it's not always appropriate for each kind of model. "
   ]
  },
  {
   "cell_type": "markdown",
   "metadata": {},
   "source": [
    "# Logistic Regression "
   ]
  },
  {
   "cell_type": "markdown",
   "metadata": {},
   "source": [
    "LG Baseline"
   ]
  },
  {
   "cell_type": "code",
   "execution_count": null,
   "metadata": {
    "ExecuteTime": {
     "end_time": "2022-07-03T02:07:15.228134Z",
     "start_time": "2022-07-03T02:07:09.151Z"
    }
   },
   "outputs": [],
   "source": [
    "set_config(display = True)"
   ]
  },
  {
   "cell_type": "code",
   "execution_count": null,
   "metadata": {
    "ExecuteTime": {
     "end_time": "2022-07-03T02:07:15.228671Z",
     "start_time": "2022-07-03T02:07:09.152Z"
    }
   },
   "outputs": [],
   "source": [
    "y_val = lb.transform(y_val)"
   ]
  },
  {
   "cell_type": "code",
   "execution_count": null,
   "metadata": {
    "ExecuteTime": {
     "end_time": "2022-07-03T02:07:15.229247Z",
     "start_time": "2022-07-03T02:07:09.153Z"
    }
   },
   "outputs": [],
   "source": [
    "lg_pipeline = Pipeline([\n",
    "    ('scaler', StandardScaler()),\n",
    "    ('lg', LogisticRegression()),\n",
    "    \n",
    "])\n",
    "baseline_params = {'lg__random_state' : [42]}\n",
    "\n",
    "grid = GridSearchCV(lg_pipeline, baseline_params, scoring = 'recall_micro')"
   ]
  },
  {
   "cell_type": "code",
   "execution_count": null,
   "metadata": {
    "ExecuteTime": {
     "end_time": "2022-07-03T02:07:15.229797Z",
     "start_time": "2022-07-03T02:07:09.155Z"
    }
   },
   "outputs": [],
   "source": [
    "show_train_and_test(grid, X_train, y_train, X_val, 'model_name')"
   ]
  },
  {
   "cell_type": "code",
   "execution_count": null,
   "metadata": {
    "ExecuteTime": {
     "end_time": "2022-07-03T02:07:15.230342Z",
     "start_time": "2022-07-03T02:07:09.156Z"
    }
   },
   "outputs": [],
   "source": [
    "lg_gscv_params = {\n",
    "    'lg__C': [0.01, 1, 10, 100],\n",
    "    'lg__penalty' : ['l1', 'l2', 'elasticnet'],\n",
    "    'lg__solver' : ['liblinear', 'newton-cg', 'lbfgs', 'sag', 'saga'],\n",
    "    'lg__class_weight': [y_weights, 'balanced'],\n",
    "    'lg__multi_class' : ['auto', 'ovr', 'multinomial']}"
   ]
  },
  {
   "cell_type": "code",
   "execution_count": null,
   "metadata": {
    "ExecuteTime": {
     "end_time": "2022-07-03T02:07:15.230832Z",
     "start_time": "2022-07-03T02:07:09.156Z"
    }
   },
   "outputs": [],
   "source": [
    "grid = GridSearchCV(lg_pipeline, lg_gscv_params, scoring = 'recall_micro')"
   ]
  },
  {
   "cell_type": "code",
   "execution_count": null,
   "metadata": {
    "ExecuteTime": {
     "end_time": "2022-07-03T02:07:15.231350Z",
     "start_time": "2022-07-03T02:07:09.157Z"
    }
   },
   "outputs": [],
   "source": [
    "show_train_and_test(grid, X_train, y_train, X_val, 'model_name')"
   ]
  },
  {
   "cell_type": "markdown",
   "metadata": {},
   "source": [
    "One Over All Logistic Regression"
   ]
  },
  {
   "cell_type": "code",
   "execution_count": null,
   "metadata": {
    "ExecuteTime": {
     "end_time": "2022-07-03T02:07:15.231857Z",
     "start_time": "2022-07-03T02:07:09.159Z"
    }
   },
   "outputs": [],
   "source": [
    "OVR_lg_pipeline = Pipeline([\n",
    "    ('scaler', StandardScaler()),\n",
    "    ('OVR_lg', OneVsRestClassifier(LogisticRegression())),\n",
    "    \n",
    "])\n",
    "baseline_params = {}\n",
    "\n",
    "grid = GridSearchCV(OVR_lg_pipeline, baseline_params, scoring = 'recall_micro')"
   ]
  },
  {
   "cell_type": "code",
   "execution_count": null,
   "metadata": {
    "ExecuteTime": {
     "end_time": "2022-07-03T02:07:15.232355Z",
     "start_time": "2022-07-03T02:07:09.160Z"
    }
   },
   "outputs": [],
   "source": [
    "show_train_and_test(grid, X_train, y_train, X_val, 'model_name')"
   ]
  },
  {
   "cell_type": "markdown",
   "metadata": {},
   "source": [
    "Improving logistic regression with GridSearchCV"
   ]
  },
  {
   "cell_type": "code",
   "execution_count": null,
   "metadata": {
    "ExecuteTime": {
     "end_time": "2022-07-03T02:07:15.232880Z",
     "start_time": "2022-07-03T02:07:09.162Z"
    }
   },
   "outputs": [],
   "source": [
    "OVR_lg_gscv_params = {\n",
    "    'OVR_lg__estimator__C': [1, 2, 3, 4, 5, 6, 7, 8, 9, 10],\n",
    "    'OVR_lg__estimator__penalty' : ['l1', 'l2', 'elasticnet'],\n",
    "    'OVR_lg__estimator__solver' : ['liblinear', 'newton-cg', 'lbfgs', 'sag', 'saga'],\n",
    "    'OVR_lg__estimator__class_weight': [y_weights, 'balanced'],\n",
    "    'OVR_lg__estimator__multi_class' : ['auto', 'multinomial']}"
   ]
  },
  {
   "cell_type": "code",
   "execution_count": null,
   "metadata": {
    "ExecuteTime": {
     "end_time": "2022-07-03T02:07:15.233385Z",
     "start_time": "2022-07-03T02:07:09.163Z"
    }
   },
   "outputs": [],
   "source": [
    "grid = GridSearchCV(OVR_lg_pipeline, OVR_lg_gscv_params, scoring = 'recall_micro')"
   ]
  },
  {
   "cell_type": "code",
   "execution_count": null,
   "metadata": {
    "ExecuteTime": {
     "end_time": "2022-07-03T02:07:15.233809Z",
     "start_time": "2022-07-03T02:07:09.164Z"
    }
   },
   "outputs": [],
   "source": [
    "show_train_and_test(grid, X_train, y_train, X_val, 'model_name')"
   ]
  },
  {
   "cell_type": "code",
   "execution_count": null,
   "metadata": {
    "ExecuteTime": {
     "end_time": "2022-07-03T02:07:15.234295Z",
     "start_time": "2022-07-03T02:07:09.165Z"
    }
   },
   "outputs": [],
   "source": [
    "OVR_lg_best_params = {'C': 2, \n",
    "                      'class_weight': 'balanced', \n",
    "                      'multi_class': 'auto', \n",
    "                      'penalty': 'l1', \n",
    "                      'solver': 'liblinear'}"
   ]
  },
  {
   "cell_type": "code",
   "execution_count": null,
   "metadata": {
    "ExecuteTime": {
     "end_time": "2022-07-03T02:07:15.234858Z",
     "start_time": "2022-07-03T02:07:09.166Z"
    }
   },
   "outputs": [],
   "source": [
    "best_OVR_lg = OneVsRestClassifier(LogisticRegression(**OVR_lg_best_params))"
   ]
  },
  {
   "cell_type": "code",
   "execution_count": null,
   "metadata": {
    "ExecuteTime": {
     "end_time": "2022-07-03T02:07:15.235359Z",
     "start_time": "2022-07-03T02:07:09.167Z"
    }
   },
   "outputs": [],
   "source": [
    "scaler = StandardScaler()\n",
    "X_train_scaled = scaler.fit_transform(X_train)"
   ]
  },
  {
   "cell_type": "code",
   "execution_count": null,
   "metadata": {
    "ExecuteTime": {
     "end_time": "2022-07-03T02:07:15.235847Z",
     "start_time": "2022-07-03T02:07:09.169Z"
    }
   },
   "outputs": [],
   "source": [
    "best_OVR_lg.fit(X_train_scaled, y_train)"
   ]
  },
  {
   "cell_type": "code",
   "execution_count": null,
   "metadata": {
    "ExecuteTime": {
     "end_time": "2022-07-03T02:07:15.236378Z",
     "start_time": "2022-07-03T02:07:09.170Z"
    }
   },
   "outputs": [],
   "source": [
    "best_OVR_lg_coef_vals = best_OVR_lg.coef_\n",
    "class_0_coeffs = best_OVR_lg_coef_vals[0]\n",
    "class_1_coeffs = best_OVR_lg_coef_vals[1]\n",
    "class_2_coeffs = best_OVR_lg_coef_vals[2]\n",
    "all_class_coeffs = [class_0_coeffs, class_1_coeffs, class_2_coeffs]"
   ]
  },
  {
   "cell_type": "code",
   "execution_count": null,
   "metadata": {
    "ExecuteTime": {
     "end_time": "2022-07-03T02:07:15.236866Z",
     "start_time": "2022-07-03T02:07:09.171Z"
    }
   },
   "outputs": [],
   "source": [
    "features = X.columns\n",
    "features"
   ]
  },
  {
   "cell_type": "code",
   "execution_count": null,
   "metadata": {
    "ExecuteTime": {
     "end_time": "2022-07-03T02:07:15.237361Z",
     "start_time": "2022-07-03T02:07:09.172Z"
    }
   },
   "outputs": [],
   "source": [
    "OVR_lg_gscv_coefs = pd.DataFrame(data = all_class_coeffs, columns = features)\n",
    "OVR_lg_gscv_coefs"
   ]
  },
  {
   "cell_type": "code",
   "execution_count": null,
   "metadata": {
    "ExecuteTime": {
     "end_time": "2022-07-03T02:07:15.237917Z",
     "start_time": "2022-07-03T02:07:09.173Z"
    }
   },
   "outputs": [],
   "source": [
    "visualize_importances(OVR_lg_gscv_coefs)"
   ]
  },
  {
   "cell_type": "code",
   "execution_count": null,
   "metadata": {
    "ExecuteTime": {
     "end_time": "2022-07-03T02:07:15.238375Z",
     "start_time": "2022-07-03T02:07:09.175Z"
    }
   },
   "outputs": [],
   "source": [
    "class_lg_2_coeffs = OVR_lg_gscv_coefs.iloc[2].sort_values(ascending = False, key = abs)\n",
    "class_lg_2_coeffs"
   ]
  },
  {
   "cell_type": "code",
   "execution_count": null,
   "metadata": {
    "ExecuteTime": {
     "end_time": "2022-07-03T02:07:15.238862Z",
     "start_time": "2022-07-03T02:07:09.176Z"
    }
   },
   "outputs": [],
   "source": [
    "features_for_lg_df_drop = class_lg_2_coeffs[-2::]\n",
    "features_for_lg_df_drop"
   ]
  },
  {
   "cell_type": "code",
   "execution_count": null,
   "metadata": {
    "ExecuteTime": {
     "end_time": "2022-07-03T02:07:15.239402Z",
     "start_time": "2022-07-03T02:07:09.177Z"
    }
   },
   "outputs": [],
   "source": [
    "fig, ax = plt.subplots(figsize =(8, 8))\n",
    "\n",
    "fig = sns.barplot(y = class_lg_2_coeffs.index, x = class_lg_2_coeffs, \n",
    "                  color = 'green')"
   ]
  },
  {
   "cell_type": "markdown",
   "metadata": {},
   "source": [
    "# KNN"
   ]
  },
  {
   "cell_type": "markdown",
   "metadata": {
    "ExecuteTime": {
     "end_time": "2022-06-27T19:59:22.954068Z",
     "start_time": "2022-06-27T19:59:22.949190Z"
    }
   },
   "source": [
    "baseline KNN"
   ]
  },
  {
   "cell_type": "code",
   "execution_count": null,
   "metadata": {
    "ExecuteTime": {
     "end_time": "2022-07-03T02:07:15.239886Z",
     "start_time": "2022-07-03T02:07:09.178Z"
    }
   },
   "outputs": [],
   "source": [
    "KNN_pipeline = Pipeline([\n",
    "    ('KNN', KNeighborsClassifier())\n",
    "    \n",
    "])\n",
    "baseline_params = {}\n",
    "\n",
    "grid = GridSearchCV(KNN_pipeline, baseline_params, scoring = 'recall_micro')"
   ]
  },
  {
   "cell_type": "code",
   "execution_count": null,
   "metadata": {
    "ExecuteTime": {
     "end_time": "2022-07-03T02:07:15.240405Z",
     "start_time": "2022-07-03T02:07:09.179Z"
    }
   },
   "outputs": [],
   "source": [
    "show_train_and_test(grid, X_train, y_train, X_val, 'model_name')"
   ]
  },
  {
   "cell_type": "code",
   "execution_count": null,
   "metadata": {
    "ExecuteTime": {
     "end_time": "2022-07-03T02:07:15.240934Z",
     "start_time": "2022-07-03T02:07:09.180Z"
    }
   },
   "outputs": [],
   "source": [
    "KNN_gscv_params = {\n",
    "    'KNN__n_neighbors': list(range(1, 26, 2)),\n",
    "    'KNN__metric' : ['euclidean', 'manhattan', 'chebyshev', 'minkowski'],\n",
    "    'KNN__p' : [0.001, 0.01, 0.1, 1, 10, 100, 1000],\n",
    "    'KNN__weights' : ['uniform', 'distance']}\n",
    "\n",
    "grid = GridSearchCV(KNN_pipeline, KNN_gscv_params, scoring = 'recall_micro')"
   ]
  },
  {
   "cell_type": "code",
   "execution_count": null,
   "metadata": {
    "ExecuteTime": {
     "end_time": "2022-07-03T02:07:15.241448Z",
     "start_time": "2022-07-03T02:07:09.181Z"
    }
   },
   "outputs": [],
   "source": [
    "show_train_and_test(grid, X_train, y_train, X_val, 'model_name')"
   ]
  },
  {
   "cell_type": "markdown",
   "metadata": {},
   "source": [
    "One Vs Rest KNN"
   ]
  },
  {
   "cell_type": "code",
   "execution_count": null,
   "metadata": {
    "ExecuteTime": {
     "end_time": "2022-07-03T02:07:15.241908Z",
     "start_time": "2022-07-03T02:07:09.182Z"
    }
   },
   "outputs": [],
   "source": [
    "OVR_KNN_pipeline = Pipeline([\n",
    "    ('OVR_KNN', OneVsRestClassifier(KNeighborsClassifier())),\n",
    "    \n",
    "])\n",
    "baseline_params = {}\n",
    "\n",
    "grid = GridSearchCV(OVR_KNN_pipeline, baseline_params, scoring = 'recall_micro')"
   ]
  },
  {
   "cell_type": "code",
   "execution_count": null,
   "metadata": {
    "ExecuteTime": {
     "end_time": "2022-07-03T02:07:15.242460Z",
     "start_time": "2022-07-03T02:07:09.183Z"
    }
   },
   "outputs": [],
   "source": [
    "show_train_and_test(grid, X_train, y_train, X_val, 'model_name')"
   ]
  },
  {
   "cell_type": "markdown",
   "metadata": {},
   "source": [
    "improving OneVsRest KNN with GridSearchCV:"
   ]
  },
  {
   "cell_type": "code",
   "execution_count": null,
   "metadata": {
    "ExecuteTime": {
     "end_time": "2022-07-03T02:07:15.242975Z",
     "start_time": "2022-07-03T02:07:09.184Z"
    }
   },
   "outputs": [],
   "source": [
    "OVR_KNN_params = {\n",
    "    'OVR_KNN__estimator__n_neighbors': list(range(1, 26, 2)),\n",
    "    'OVR_KNN__estimator__metric' : ['euclidean', 'manhattan', 'chebyshev', 'minkowski'],\n",
    "    'OVR_KNN__estimator__weights' : ['uniform', 'distance']}\n",
    "\n",
    "grid = GridSearchCV(OVR_KNN_pipeline, OVR_KNN_params, scoring = 'recall_micro')"
   ]
  },
  {
   "cell_type": "code",
   "execution_count": null,
   "metadata": {
    "ExecuteTime": {
     "end_time": "2022-07-03T02:07:15.243507Z",
     "start_time": "2022-07-03T02:07:09.185Z"
    }
   },
   "outputs": [],
   "source": [
    "grid = GridSearchCV(OVR_KNN_pipeline, OVR_KNN_params, scoring = 'recall_micro')"
   ]
  },
  {
   "cell_type": "code",
   "execution_count": null,
   "metadata": {
    "ExecuteTime": {
     "end_time": "2022-07-03T02:07:15.243999Z",
     "start_time": "2022-07-03T02:07:09.186Z"
    }
   },
   "outputs": [],
   "source": [
    "show_train_and_test(grid, X_train, y_train, X_val, 'model_name')"
   ]
  },
  {
   "cell_type": "markdown",
   "metadata": {},
   "source": [
    "# Support Vector Machine"
   ]
  },
  {
   "cell_type": "code",
   "execution_count": null,
   "metadata": {
    "ExecuteTime": {
     "end_time": "2022-07-03T02:07:15.244490Z",
     "start_time": "2022-07-03T02:07:09.188Z"
    }
   },
   "outputs": [],
   "source": [
    "SVC_pipeline = Pipeline([\n",
    "    ('SVC', svm.SVC())\n",
    "    \n",
    "])\n",
    "baseline_params = {'SVC__random_state' : [42]}\n",
    "\n",
    "grid = GridSearchCV(SVC_pipeline, baseline_params, scoring = 'recall_micro')"
   ]
  },
  {
   "cell_type": "code",
   "execution_count": null,
   "metadata": {
    "ExecuteTime": {
     "end_time": "2022-07-03T02:07:15.244995Z",
     "start_time": "2022-07-03T02:07:09.189Z"
    }
   },
   "outputs": [],
   "source": [
    "show_train_and_test(grid, X_train, y_train, X_val, 'model_name')"
   ]
  },
  {
   "cell_type": "code",
   "execution_count": null,
   "metadata": {
    "ExecuteTime": {
     "end_time": "2022-07-03T02:07:15.245523Z",
     "start_time": "2022-07-03T02:07:09.189Z"
    }
   },
   "outputs": [],
   "source": [
    "SVC_gscv_params = {\n",
    "    'SVC__C': [ 3450, 3500, 3550, 3600],\n",
    "    'SVC__kernel' : ['poly',],\n",
    "                     #'linear', 'rbf',],\n",
    "    'SVC__class_weight': [y_weights, 'balanced']}\n",
    "\n",
    "grid = GridSearchCV(SVC_pipeline, SVC_gscv_params, scoring = 'recall_micro')"
   ]
  },
  {
   "cell_type": "code",
   "execution_count": null,
   "metadata": {
    "ExecuteTime": {
     "end_time": "2022-07-03T02:07:15.245941Z",
     "start_time": "2022-07-03T02:07:09.190Z"
    }
   },
   "outputs": [],
   "source": [
    "show_train_and_test(grid, X_train, y_train, X_val, 'model_name')"
   ]
  },
  {
   "cell_type": "markdown",
   "metadata": {
    "ExecuteTime": {
     "end_time": "2022-06-27T21:18:11.088854Z",
     "start_time": "2022-06-27T21:18:11.085637Z"
    }
   },
   "source": [
    "One Over Rest SVC"
   ]
  },
  {
   "cell_type": "code",
   "execution_count": null,
   "metadata": {
    "ExecuteTime": {
     "end_time": "2022-07-03T02:07:15.246445Z",
     "start_time": "2022-07-03T02:07:09.191Z"
    }
   },
   "outputs": [],
   "source": [
    "OVR_SVC_pipeline = Pipeline([\n",
    "    ('OVR_SVC', OneVsRestClassifier(svm.SVC(random_state = 42))),\n",
    "    \n",
    "])\n",
    "baseline_params = {}\n",
    "\n",
    "grid = GridSearchCV(OVR_SVC_pipeline, baseline_params, scoring = 'recall_micro')"
   ]
  },
  {
   "cell_type": "code",
   "execution_count": null,
   "metadata": {
    "ExecuteTime": {
     "end_time": "2022-07-03T02:07:15.247009Z",
     "start_time": "2022-07-03T02:07:09.192Z"
    }
   },
   "outputs": [],
   "source": [
    "show_train_and_test(grid, X_train, y_train, X_val, 'model_name')"
   ]
  },
  {
   "cell_type": "markdown",
   "metadata": {},
   "source": [
    "improving with gridsearch"
   ]
  },
  {
   "cell_type": "code",
   "execution_count": null,
   "metadata": {
    "ExecuteTime": {
     "end_time": "2022-07-03T02:07:15.247515Z",
     "start_time": "2022-07-03T02:07:09.194Z"
    }
   },
   "outputs": [],
   "source": [
    "OVR_SVM_gscv_params = {\n",
    "    'OVR_SVC__estimator__C': [3000, 3250, 3500, 3750, 4000,],\n",
    "    'OVR_SVC__estimator__kernel': ['poly',],\n",
    "                                  # 'linear', 'rbf',],\n",
    "    'OVR_SVC__estimator__class_weight': [y_weights, 'balanced']}\n",
    "\n",
    "grid = GridSearchCV(OVR_SVC_pipeline, param_grid = OVR_SVM_gscv_params, \n",
    "                          scoring = 'recall_micro')"
   ]
  },
  {
   "cell_type": "code",
   "execution_count": null,
   "metadata": {
    "ExecuteTime": {
     "end_time": "2022-07-03T02:07:15.247971Z",
     "start_time": "2022-07-03T02:07:09.195Z"
    }
   },
   "outputs": [],
   "source": [
    "show_train_and_test(grid, X_train, y_train, X_val, 'model_name')"
   ]
  },
  {
   "cell_type": "markdown",
   "metadata": {},
   "source": [
    "# Random Forest:"
   ]
  },
  {
   "cell_type": "code",
   "execution_count": null,
   "metadata": {
    "ExecuteTime": {
     "end_time": "2022-07-03T02:07:15.248508Z",
     "start_time": "2022-07-03T02:07:09.196Z"
    }
   },
   "outputs": [],
   "source": [
    "rf_pipeline = Pipeline([\n",
    "    ('rf', RandomForestClassifier())\n",
    "    \n",
    "])\n",
    "baseline_params = {'rf__random_state' : [42]}\n",
    "\n",
    "grid = GridSearchCV(rf_pipeline, baseline_params, scoring = 'recall_micro')"
   ]
  },
  {
   "cell_type": "code",
   "execution_count": null,
   "metadata": {
    "ExecuteTime": {
     "end_time": "2022-07-03T02:07:15.248981Z",
     "start_time": "2022-07-03T02:07:09.197Z"
    }
   },
   "outputs": [],
   "source": [
    "show_train_and_test(grid, X_train, y_train, X_val, 'model_name')"
   ]
  },
  {
   "cell_type": "code",
   "execution_count": null,
   "metadata": {
    "ExecuteTime": {
     "end_time": "2022-07-03T02:07:15.249425Z",
     "start_time": "2022-07-03T02:07:09.198Z"
    }
   },
   "outputs": [],
   "source": [
    "rf_gscv_params = {\n",
    "    'rf__min_samples_split': [4, 5, 6, 7, 8, 9, 10],\n",
    "    'rf__min_samples_leaf' : [1, 2, 3, 4, 5, 6],\n",
    "    'rf__max_features' : ['auto', 'sqrt', 'log2'],\n",
    "    #'max_leaf_nodes': [40, 50, 60, 70, None],\n",
    "    'rf__criterion': [\"gini\", \"entropy\"],\n",
    "    'rf__class_weight': ['balanced', y_weights]}\n",
    "\n",
    "grid = GridSearchCV(rf_pipeline, rf_gscv_params, scoring = 'recall_micro')"
   ]
  },
  {
   "cell_type": "code",
   "execution_count": null,
   "metadata": {
    "ExecuteTime": {
     "end_time": "2022-07-03T02:07:15.249934Z",
     "start_time": "2022-07-03T02:07:09.199Z"
    },
    "scrolled": true
   },
   "outputs": [],
   "source": [
    "show_train_and_test(grid, X_train, y_train, X_val, 'model_name')"
   ]
  },
  {
   "cell_type": "markdown",
   "metadata": {},
   "source": [
    "# Random Forest Feature Importance"
   ]
  },
  {
   "cell_type": "code",
   "execution_count": null,
   "metadata": {
    "ExecuteTime": {
     "end_time": "2022-07-03T02:07:15.250441Z",
     "start_time": "2022-07-03T02:07:09.200Z"
    }
   },
   "outputs": [],
   "source": [
    "rf_best_params = {'class_weight': {1.0: 0.22154280338664156, \n",
    "                                       2.0: 0.861241768579492, \n",
    "                                       3.0: 0.9172154280338665},\n",
    "                  'criterion': 'gini',\n",
    "                  'max_features': 'auto',\n",
    "                  'min_samples_leaf': 2,\n",
    "                  'min_samples_split': 4}"
   ]
  },
  {
   "cell_type": "code",
   "execution_count": null,
   "metadata": {
    "ExecuteTime": {
     "end_time": "2022-07-03T02:07:15.250929Z",
     "start_time": "2022-07-03T02:07:09.201Z"
    }
   },
   "outputs": [],
   "source": [
    "best_rf = RandomForestClassifier(**rf_best_params)"
   ]
  },
  {
   "cell_type": "code",
   "execution_count": null,
   "metadata": {
    "ExecuteTime": {
     "end_time": "2022-07-03T02:07:15.251374Z",
     "start_time": "2022-07-03T02:07:09.202Z"
    }
   },
   "outputs": [],
   "source": [
    "best_rf.fit(X_train, y_train)"
   ]
  },
  {
   "cell_type": "code",
   "execution_count": null,
   "metadata": {
    "ExecuteTime": {
     "end_time": "2022-07-03T02:07:15.251860Z",
     "start_time": "2022-07-03T02:07:09.203Z"
    }
   },
   "outputs": [],
   "source": [
    "feature_importances_class_0 = best_rf[0].feature_importances_\n",
    "feature_importances_class_1 = best_rf[1].feature_importances_\n",
    "feature_importances_class_2 = best_rf[2].feature_importances_"
   ]
  },
  {
   "cell_type": "code",
   "execution_count": null,
   "metadata": {
    "ExecuteTime": {
     "end_time": "2022-07-03T02:07:15.252352Z",
     "start_time": "2022-07-03T02:07:09.204Z"
    }
   },
   "outputs": [],
   "source": [
    "all_importances = [feature_importances_class_0, feature_importances_class_1,\n",
    "                  feature_importances_class_2]"
   ]
  },
  {
   "cell_type": "code",
   "execution_count": null,
   "metadata": {
    "ExecuteTime": {
     "end_time": "2022-07-03T02:07:15.252762Z",
     "start_time": "2022-07-03T02:07:09.205Z"
    },
    "scrolled": true
   },
   "outputs": [],
   "source": [
    "importances = pd.DataFrame(all_importances, columns = X.columns)\n",
    "importances\n"
   ]
  },
  {
   "cell_type": "code",
   "execution_count": null,
   "metadata": {
    "ExecuteTime": {
     "end_time": "2022-07-03T02:07:15.253257Z",
     "start_time": "2022-07-03T02:07:09.206Z"
    }
   },
   "outputs": [],
   "source": [
    "visualize_importances(importances)"
   ]
  },
  {
   "cell_type": "code",
   "execution_count": null,
   "metadata": {
    "ExecuteTime": {
     "end_time": "2022-07-03T02:07:15.253789Z",
     "start_time": "2022-07-03T02:07:09.207Z"
    }
   },
   "outputs": [],
   "source": [
    "summed_importances = importances.sum().sort_values(ascending = False)\n",
    "\n",
    "summed_importances\n",
    "\n",
    "#stacked bar vs bar to show "
   ]
  },
  {
   "cell_type": "code",
   "execution_count": null,
   "metadata": {
    "ExecuteTime": {
     "end_time": "2022-07-03T02:07:15.254240Z",
     "start_time": "2022-07-03T02:07:09.207Z"
    }
   },
   "outputs": [],
   "source": [
    "labels = summed_importances.index"
   ]
  },
  {
   "cell_type": "code",
   "execution_count": null,
   "metadata": {
    "ExecuteTime": {
     "end_time": "2022-07-03T02:07:15.254724Z",
     "start_time": "2022-07-03T02:07:09.208Z"
    },
    "scrolled": false
   },
   "outputs": [],
   "source": [
    "fig, ax = plt.subplots(figsize =(5, 5))\n",
    "\n",
    "fig = sns.barplot(y = labels, x = summed_importances.values, color = 'green')"
   ]
  },
  {
   "cell_type": "code",
   "execution_count": null,
   "metadata": {
    "ExecuteTime": {
     "end_time": "2022-07-03T02:07:15.255221Z",
     "start_time": "2022-07-03T02:07:09.209Z"
    },
    "scrolled": true
   },
   "outputs": [],
   "source": [
    "importances_class_two = importances.iloc[2].sort_values(ascending = False)\n",
    "importances_class_two"
   ]
  },
  {
   "cell_type": "code",
   "execution_count": null,
   "metadata": {
    "ExecuteTime": {
     "end_time": "2022-07-03T02:07:15.255686Z",
     "start_time": "2022-07-03T02:07:09.210Z"
    }
   },
   "outputs": [],
   "source": [
    "fig, ax = plt.subplots(figsize =(5, 5))\n",
    "\n",
    "fig = sns.barplot(y = labels, x = importances_class_two.values, color = 'orange')"
   ]
  },
  {
   "cell_type": "markdown",
   "metadata": {
    "ExecuteTime": {
     "end_time": "2022-06-30T19:26:26.080993Z",
     "start_time": "2022-06-30T19:26:26.077652Z"
    }
   },
   "source": [
    " Taking it a step further"
   ]
  },
  {
   "cell_type": "code",
   "execution_count": null,
   "metadata": {
    "ExecuteTime": {
     "end_time": "2022-07-03T02:07:15.256130Z",
     "start_time": "2022-07-03T02:07:09.212Z"
    }
   },
   "outputs": [],
   "source": [
    "# Making a DF for the OVR Logistic Regression Machine "
   ]
  },
  {
   "cell_type": "code",
   "execution_count": null,
   "metadata": {
    "ExecuteTime": {
     "end_time": "2022-07-03T02:07:15.256573Z",
     "start_time": "2022-07-03T02:07:09.212Z"
    }
   },
   "outputs": [],
   "source": [
    "features_for_rf_df_drop = importances_class_two[-5::]\n",
    "features_for_rf_df_drop"
   ]
  },
  {
   "cell_type": "code",
   "execution_count": null,
   "metadata": {
    "ExecuteTime": {
     "end_time": "2022-07-03T02:07:15.257081Z",
     "start_time": "2022-07-03T02:07:09.213Z"
    }
   },
   "outputs": [],
   "source": [
    "rf_best_params = {'rf__class_weight': [{1.0: 0.22154280338664156,\n",
    "   2.0: 0.861241768579492,\n",
    "   3.0: 0.9172154280338665}],\n",
    " 'rf__criterion': ['entropy'],\n",
    " 'rf__max_features': ['log2'],\n",
    " 'rf__min_samples_leaf': [1],\n",
    " 'rf__min_samples_split': [8]}"
   ]
  },
  {
   "cell_type": "code",
   "execution_count": null,
   "metadata": {
    "ExecuteTime": {
     "end_time": "2022-07-03T02:07:15.257582Z",
     "start_time": "2022-07-03T02:07:09.214Z"
    }
   },
   "outputs": [],
   "source": [
    "best_rf_pipeline = Pipeline([\n",
    "    (\"columnDropper\", columnDropperTransformer(features_for_rf_df_drop.index)),\n",
    "    ('rf', RandomForestClassifier())\n",
    "    \n",
    "])\n",
    "\n",
    "grid = GridSearchCV(best_rf_pipeline, rf_best_params, scoring = 'recall_micro')"
   ]
  },
  {
   "cell_type": "code",
   "execution_count": null,
   "metadata": {
    "ExecuteTime": {
     "end_time": "2022-07-03T02:07:15.258077Z",
     "start_time": "2022-07-03T02:07:09.215Z"
    }
   },
   "outputs": [],
   "source": [
    "show_train_and_test(grid, X_train, y_train, X_val, 'model_name')"
   ]
  },
  {
   "cell_type": "code",
   "execution_count": null,
   "metadata": {
    "ExecuteTime": {
     "end_time": "2022-07-03T02:07:15.258568Z",
     "start_time": "2022-07-03T02:07:09.216Z"
    }
   },
   "outputs": [],
   "source": [
    "rf_best_params"
   ]
  },
  {
   "cell_type": "markdown",
   "metadata": {},
   "source": [
    "# SHAP scores for Random Forest GridSearchCV"
   ]
  },
  {
   "cell_type": "code",
   "execution_count": null,
   "metadata": {
    "ExecuteTime": {
     "end_time": "2022-07-03T02:07:15.259101Z",
     "start_time": "2022-07-03T02:07:09.217Z"
    }
   },
   "outputs": [],
   "source": [
    "shap.initjs()"
   ]
  },
  {
   "cell_type": "code",
   "execution_count": null,
   "metadata": {
    "ExecuteTime": {
     "end_time": "2022-07-03T02:07:15.259556Z",
     "start_time": "2022-07-03T02:07:09.218Z"
    },
    "scrolled": false
   },
   "outputs": [],
   "source": [
    "explainer = shap.TreeExplainer(best_rf)"
   ]
  },
  {
   "cell_type": "code",
   "execution_count": null,
   "metadata": {
    "ExecuteTime": {
     "end_time": "2022-07-03T02:07:15.260085Z",
     "start_time": "2022-07-03T02:07:09.219Z"
    }
   },
   "outputs": [],
   "source": [
    "shap_values = explainer.shap_values(X_val, y_val)"
   ]
  },
  {
   "cell_type": "code",
   "execution_count": null,
   "metadata": {
    "ExecuteTime": {
     "end_time": "2022-07-03T02:07:15.260536Z",
     "start_time": "2022-07-03T02:07:09.220Z"
    }
   },
   "outputs": [],
   "source": [
    "shap.summary_plot(shap_values, X_val, plot_type = 'bar', max_display = 40)"
   ]
  },
  {
   "cell_type": "code",
   "execution_count": null,
   "metadata": {
    "ExecuteTime": {
     "end_time": "2022-07-03T02:07:15.261015Z",
     "start_time": "2022-07-03T02:07:09.221Z"
    },
    "scrolled": true
   },
   "outputs": [],
   "source": [
    "shap.summary_plot(shap_values[2], X_val, plot_type = 'bar', max_display = 40,\n",
    "                 title = 'Most Predictive Features for Pathological')"
   ]
  },
  {
   "cell_type": "markdown",
   "metadata": {},
   "source": [
    "# One Over All"
   ]
  },
  {
   "cell_type": "code",
   "execution_count": null,
   "metadata": {
    "ExecuteTime": {
     "end_time": "2022-07-03T02:07:15.261538Z",
     "start_time": "2022-07-03T02:07:09.222Z"
    }
   },
   "outputs": [],
   "source": [
    "OVR_rf_pipeline = Pipeline([\n",
    "    ('OVR_rf', OneVsRestClassifier(RandomForestClassifier(random_state = 42))),\n",
    "    \n",
    "])\n",
    "baseline_params = {}\n",
    "\n",
    "grid = GridSearchCV(OVR_rf_pipeline, baseline_params, scoring = 'recall_micro')"
   ]
  },
  {
   "cell_type": "code",
   "execution_count": null,
   "metadata": {
    "ExecuteTime": {
     "end_time": "2022-07-03T02:07:15.262049Z",
     "start_time": "2022-07-03T02:07:09.223Z"
    }
   },
   "outputs": [],
   "source": [
    "show_train_and_test(grid, X_train, y_train, X_val, 'model_name')"
   ]
  },
  {
   "cell_type": "markdown",
   "metadata": {},
   "source": [
    "trying a One Vs Rest Classyfier with Random Forrest "
   ]
  },
  {
   "cell_type": "markdown",
   "metadata": {
    "ExecuteTime": {
     "end_time": "2022-06-30T19:26:56.744030Z",
     "start_time": "2022-06-30T19:26:56.741229Z"
    }
   },
   "source": [
    "THIS IS THE RANDOM FOREST TO GO WITH"
   ]
  },
  {
   "cell_type": "code",
   "execution_count": null,
   "metadata": {
    "ExecuteTime": {
     "end_time": "2022-07-03T02:07:15.262517Z",
     "start_time": "2022-07-03T02:07:09.225Z"
    }
   },
   "outputs": [],
   "source": [
    "OVR_rf_gscv_params = {\n",
    "    'OVR_rf__estimator__min_samples_split': [4, 5, 6, 7, 8, 9, 10],\n",
    "    'OVR_rf__estimator__min_samples_leaf' : [1, 2, 3, 4, 5, 6],\n",
    "    'OVR_rf__estimator__max_features' : ['auto',],\n",
    "    #'sqrt', 'log2'],\n",
    "    #'max_leaf_nodes': [40, 50, 60, 70, None],\n",
    "    'OVR_rf__estimator__criterion': [\"gini\", \"entropy\"],\n",
    "    'OVR_rf__estimator__class_weight': ['balanced', y_weights]}\n",
    "\n",
    "grid = GridSearchCV(OVR_rf_pipeline, OVR_rf_gscv_params, \n",
    "                          scoring = 'recall_micro')"
   ]
  },
  {
   "cell_type": "code",
   "execution_count": null,
   "metadata": {
    "ExecuteTime": {
     "end_time": "2022-07-03T02:07:15.262965Z",
     "start_time": "2022-07-03T02:07:09.226Z"
    }
   },
   "outputs": [],
   "source": [
    "show_train_and_test(grid, X_train, y_train, X_val, 'model_name')"
   ]
  },
  {
   "cell_type": "markdown",
   "metadata": {},
   "source": [
    "# Combining OneVsRest Logistic Regression Model with OneVsRest Random Forest Model"
   ]
  },
  {
   "cell_type": "markdown",
   "metadata": {
    "ExecuteTime": {
     "end_time": "2022-06-28T17:37:14.514592Z",
     "start_time": "2022-06-28T17:37:14.512082Z"
    }
   },
   "source": [
    "PROBLEM: SCALING ONLY FOR LOGISTIC REGRESSION INSIDE OVR_LG\n",
    "\n",
    "\n",
    "SOLUTION: PUT IT IN A PIPELINE"
   ]
  },
  {
   "cell_type": "code",
   "execution_count": null,
   "metadata": {
    "ExecuteTime": {
     "end_time": "2022-07-03T02:07:15.263505Z",
     "start_time": "2022-07-03T02:07:09.228Z"
    }
   },
   "outputs": [],
   "source": [
    "reports_df = pd.DataFrame(reports[1::2])\n",
    "reports_df"
   ]
  },
  {
   "cell_type": "markdown",
   "metadata": {},
   "source": [
    "OVR LG with OVR RF"
   ]
  },
  {
   "cell_type": "code",
   "execution_count": null,
   "metadata": {
    "ExecuteTime": {
     "end_time": "2022-07-03T02:07:15.264057Z",
     "start_time": "2022-07-03T02:07:09.229Z"
    }
   },
   "outputs": [],
   "source": [
    "p1 = Pipeline([['OVR_lg', OVR_lg_pipeline]])\n",
    "p2 = Pipeline([['OVR_rf', OVR_rf_pipeline]])\n",
    "final_model = Pipeline([['clf3', VotingClassifier(estimators=[(\"p1\",p1), (\"p2\",p2)],\n",
    "                                        voting = 'soft')]])"
   ]
  },
  {
   "cell_type": "code",
   "execution_count": null,
   "metadata": {
    "ExecuteTime": {
     "end_time": "2022-07-03T02:07:15.264580Z",
     "start_time": "2022-07-03T02:07:09.230Z"
    }
   },
   "outputs": [],
   "source": [
    "p1_params = {'OVR_lg__OVR_lg__estimator__random_state' : 42, \n",
    "             'OVR_lg__OVR_lg__estimator__C' : 2, \n",
    "             'OVR_lg__OVR_lg__estimator__class_weight' : 'balanced',\n",
    "             'OVR_lg__OVR_lg__estimator__multi_class' : 'auto', \n",
    "             'OVR_lg__OVR_lg__estimator__penalty' : 'l1', \n",
    "             'OVR_lg__OVR_lg__estimator__solver' : 'liblinear'}\n",
    "\n",
    "p2_params = {'OVR_rf__OVR_rf__estimator__class_weight': 'balanced', \n",
    "             'OVR_rf__OVR_rf__estimator__criterion': 'entropy', \n",
    "             'OVR_rf__OVR_rf__estimator__max_features': 'auto', \n",
    "             'OVR_rf__OVR_rf__estimator__min_samples_leaf': 1, \n",
    "             'OVR_rf__OVR_rf__estimator__min_samples_split': 8}\n"
   ]
  },
  {
   "cell_type": "code",
   "execution_count": null,
   "metadata": {
    "ExecuteTime": {
     "end_time": "2022-07-03T02:07:15.265052Z",
     "start_time": "2022-07-03T02:07:09.231Z"
    }
   },
   "outputs": [],
   "source": [
    "p1.set_params(**p1_params)\n",
    "p2.set_params(**p2_params)"
   ]
  },
  {
   "cell_type": "code",
   "execution_count": null,
   "metadata": {
    "ExecuteTime": {
     "end_time": "2022-07-03T02:07:15.265564Z",
     "start_time": "2022-07-03T02:07:09.232Z"
    }
   },
   "outputs": [],
   "source": [
    "final_model.fit(X_train, y_train)"
   ]
  },
  {
   "cell_type": "code",
   "execution_count": null,
   "metadata": {
    "ExecuteTime": {
     "end_time": "2022-07-03T02:07:15.265982Z",
     "start_time": "2022-07-03T02:07:09.233Z"
    }
   },
   "outputs": [],
   "source": [
    "show_train_and_test(grid, X_train, y_train, X_val, 'model_name')"
   ]
  },
  {
   "cell_type": "markdown",
   "metadata": {},
   "source": [
    "# Saving the final model and testing it on holdout data"
   ]
  },
  {
   "cell_type": "code",
   "execution_count": null,
   "metadata": {
    "ExecuteTime": {
     "end_time": "2022-07-03T02:07:15.266524Z",
     "start_time": "2022-07-03T02:07:09.234Z"
    }
   },
   "outputs": [],
   "source": [
    "fetal_health_voting_model = 'final_model.sav'\n",
    "pickle.dump(final_model, open(fetal_health_voting_model, 'wb'))"
   ]
  },
  {
   "cell_type": "code",
   "execution_count": null,
   "metadata": {
    "ExecuteTime": {
     "end_time": "2022-07-03T02:07:15.266996Z",
     "start_time": "2022-07-03T02:07:09.235Z"
    }
   },
   "outputs": [],
   "source": [
    "loaded_model = pickle.load(open('final_model.sav', 'rb'))"
   ]
  },
  {
   "cell_type": "code",
   "execution_count": null,
   "metadata": {
    "ExecuteTime": {
     "end_time": "2022-07-03T02:07:15.267474Z",
     "start_time": "2022-07-03T02:07:09.237Z"
    }
   },
   "outputs": [],
   "source": [
    "X_train_preds = loaded_model.predict(X_train)\n",
    "X_train_preds = lb.transform(X_train_preds)\n",
    "#y_train = lb.transform(y_train)"
   ]
  },
  {
   "cell_type": "code",
   "execution_count": null,
   "metadata": {
    "ExecuteTime": {
     "end_time": "2022-07-03T02:07:15.267940Z",
     "start_time": "2022-07-03T02:07:09.238Z"
    }
   },
   "outputs": [],
   "source": [
    "eval_and_vis(loaded_model, y_train, holdout_preds, 'Fetal Health Model')"
   ]
  },
  {
   "cell_type": "code",
   "execution_count": null,
   "metadata": {
    "ExecuteTime": {
     "end_time": "2022-07-03T02:07:15.268418Z",
     "start_time": "2022-07-03T02:07:09.239Z"
    }
   },
   "outputs": [],
   "source": [
    "y_holdout_preds = loaded_model.predict(X_holdout)\n",
    "y_holdout_preds = lb.transform(y_holdout_preds)\n",
    "y_holdout = lb.transform(y_holdout)"
   ]
  },
  {
   "cell_type": "code",
   "execution_count": null,
   "metadata": {
    "ExecuteTime": {
     "end_time": "2022-07-03T02:07:15.268948Z",
     "start_time": "2022-07-03T02:07:09.239Z"
    }
   },
   "outputs": [],
   "source": [
    "eval_and_vis(loaded_model, y_holdout, y_holdout_preds, 'Fetal Health Model')"
   ]
  },
  {
   "cell_type": "code",
   "execution_count": null,
   "metadata": {},
   "outputs": [],
   "source": []
  }
 ],
 "metadata": {
  "kernelspec": {
   "display_name": "Python (learn-env)",
   "language": "python",
   "name": "learn-env"
  },
  "language_info": {
   "codemirror_mode": {
    "name": "ipython",
    "version": 3
   },
   "file_extension": ".py",
   "mimetype": "text/x-python",
   "name": "python",
   "nbconvert_exporter": "python",
   "pygments_lexer": "ipython3",
   "version": "3.8.5"
  },
  "toc": {
   "base_numbering": 1,
   "nav_menu": {},
   "number_sections": true,
   "sideBar": true,
   "skip_h1_title": false,
   "title_cell": "Table of Contents",
   "title_sidebar": "Contents",
   "toc_cell": false,
   "toc_position": {
    "height": "calc(100% - 180px)",
    "left": "10px",
    "top": "150px",
    "width": "255.797px"
   },
   "toc_section_display": true,
   "toc_window_display": true
  }
 },
 "nbformat": 4,
 "nbformat_minor": 4
}
